{
 "cells": [
  {
   "cell_type": "markdown",
   "metadata": {
    "id": "pGNagJ3KNPXQ"
   },
   "source": [
    "**Import Libraries**"
   ]
  },
  {
   "cell_type": "code",
   "execution_count": 2,
   "metadata": {
    "id": "Fv6yt1y4E2ss"
   },
   "outputs": [],
   "source": [
    "\n",
    "import pandas as pd \n",
    "\n",
    "# import 'Numpy' \n",
    "import numpy as np\n",
    "\n",
    "# import subpackage of Matplotlib\n",
    "import matplotlib.pyplot as plt\n",
    "from matplotlib.colors import ListedColormap\n",
    "\n",
    "# import 'Seaborn' \n",
    "import seaborn as sns\n",
    "\n",
    "# to suppress warnings \n",
    "from warnings import filterwarnings\n",
    "filterwarnings('ignore')"
   ]
  },
  {
   "cell_type": "markdown",
   "metadata": {
    "id": "po1UCaiLOJJs"
   },
   "source": [
    "**Read the csv**"
   ]
  },
  {
   "cell_type": "code",
   "execution_count": 4,
   "metadata": {
    "colab": {
     "base_uri": "https://localhost:8080/"
    },
    "id": "1RZhHR5wEpVU",
    "outputId": "e82e9089-ffae-42f8-e5e5-a4475ed2a458"
   },
   "outputs": [
    {
     "data": {
      "text/html": [
       "<div>\n",
       "<style scoped>\n",
       "    .dataframe tbody tr th:only-of-type {\n",
       "        vertical-align: middle;\n",
       "    }\n",
       "\n",
       "    .dataframe tbody tr th {\n",
       "        vertical-align: top;\n",
       "    }\n",
       "\n",
       "    .dataframe thead th {\n",
       "        text-align: right;\n",
       "    }\n",
       "</style>\n",
       "<table border=\"1\" class=\"dataframe\">\n",
       "  <thead>\n",
       "    <tr style=\"text-align: right;\">\n",
       "      <th></th>\n",
       "      <th>Date Added</th>\n",
       "      <th>category</th>\n",
       "      <th>sellerlink</th>\n",
       "      <th>sellerlink-url</th>\n",
       "      <th>sellerstorefront-url</th>\n",
       "      <th>sellerproductcount</th>\n",
       "      <th>sellerratings</th>\n",
       "      <th>sellerdetails</th>\n",
       "      <th>seller business name</th>\n",
       "      <th>businessaddress</th>\n",
       "      <th>Count of seller brands</th>\n",
       "      <th>Max % of negative seller ratings - last 30 days</th>\n",
       "      <th>Max % of negative seller ratings - last 90 days</th>\n",
       "      <th>Max % of negative seller ratings - last 12 months</th>\n",
       "      <th>Hero Product 1 #ratings</th>\n",
       "      <th>Hero Product 2 #ratings</th>\n",
       "      <th>Sample brand name</th>\n",
       "      <th>Sample Brand URL</th>\n",
       "    </tr>\n",
       "  </thead>\n",
       "  <tbody>\n",
       "    <tr>\n",
       "      <th>0</th>\n",
       "      <td>2020-11-15</td>\n",
       "      <td>Garden</td>\n",
       "      <td>Seller 1</td>\n",
       "      <td>Seller 1-link</td>\n",
       "      <td>Seller 1-storefrontlink</td>\n",
       "      <td>1-16 of over 100,000 results</td>\n",
       "      <td>88% positive in the last 12 months (118 ratings)</td>\n",
       "      <td>Lohas Living Inc James Mazzello US 845 3RD Ave...</td>\n",
       "      <td>Business Name:Lohas Living Inc</td>\n",
       "      <td>411 THEODORE FREMD AVESTE 206 SOUTHRyeNY10580-...</td>\n",
       "      <td>16</td>\n",
       "      <td>17</td>\n",
       "      <td>11</td>\n",
       "      <td>12</td>\n",
       "      <td>5873</td>\n",
       "      <td>4957</td>\n",
       "      <td>Visit the YAMAZAKI Store</td>\n",
       "      <td>https://www.amazon.de/-/en/stores/YAMAZAKI/pag...</td>\n",
       "    </tr>\n",
       "    <tr>\n",
       "      <th>1</th>\n",
       "      <td>2020-11-15</td>\n",
       "      <td>Garden</td>\n",
       "      <td>Seller 2</td>\n",
       "      <td>Seller 2-link</td>\n",
       "      <td>Seller 2-storefrontlink</td>\n",
       "      <td>NaN</td>\n",
       "      <td>90% positive in the last 12 months (566 ratings)</td>\n",
       "      <td>Herzlich Willkommen im Amazon Shop von 1a-Hand...</td>\n",
       "      <td>Business Name:1a-Handelsagentur</td>\n",
       "      <td>1a HandelsagenturLindenallee 2MalchowMecklenbu...</td>\n",
       "      <td>0</td>\n",
       "      <td>2</td>\n",
       "      <td>2</td>\n",
       "      <td>9</td>\n",
       "      <td>0</td>\n",
       "      <td>0</td>\n",
       "      <td>Visit the tesa Store</td>\n",
       "      <td>https://www.amazon.de/-/en/stores/tesa/page/12...</td>\n",
       "    </tr>\n",
       "    <tr>\n",
       "      <th>2</th>\n",
       "      <td>2020-11-15</td>\n",
       "      <td>Garden</td>\n",
       "      <td>Seller 3</td>\n",
       "      <td>Seller 3-link</td>\n",
       "      <td>Seller 3-storefrontlink</td>\n",
       "      <td>1-16 of over 2,000 results</td>\n",
       "      <td>85% positive in the last 12 months (75 ratings)</td>\n",
       "      <td>67878u6i7 is committed to providing each custo...</td>\n",
       "      <td>Business Name:nantongaohuanfangzhipinyouxiango...</td>\n",
       "      <td>zhongnanshijicheng27zhuang1410haochongchuanqun...</td>\n",
       "      <td>15</td>\n",
       "      <td>0</td>\n",
       "      <td>25</td>\n",
       "      <td>12</td>\n",
       "      <td>164</td>\n",
       "      <td>162</td>\n",
       "      <td>TXYFYP</td>\n",
       "      <td>https://www.amazon.de/-/en/s/ref=bl_dp_s_web_0...</td>\n",
       "    </tr>\n",
       "    <tr>\n",
       "      <th>3</th>\n",
       "      <td>2020-11-15</td>\n",
       "      <td>Garden</td>\n",
       "      <td>Seller 4</td>\n",
       "      <td>Seller 4-link</td>\n",
       "      <td>Seller 4-storefrontlink</td>\n",
       "      <td>1-16 of 123 results</td>\n",
       "      <td>NaN</td>\n",
       "      <td>7 days home life supermarket is committed to p...</td>\n",
       "      <td>Business Name:Zhengzhou Yaoqiong Trading Company</td>\n",
       "      <td>河南省中兴南路福禄街自贸试验区郑州片区（郑东）河南商会大厦1901室450000CN</td>\n",
       "      <td>1</td>\n",
       "      <td>0</td>\n",
       "      <td>0</td>\n",
       "      <td>0</td>\n",
       "      <td>0</td>\n",
       "      <td>0</td>\n",
       "      <td>SHIFENG</td>\n",
       "      <td>https://www.amazon.de/-/en/s/ref=bl_dp_s_web_0...</td>\n",
       "    </tr>\n",
       "    <tr>\n",
       "      <th>4</th>\n",
       "      <td>2020-11-15</td>\n",
       "      <td>Garden</td>\n",
       "      <td>Seller 5</td>\n",
       "      <td>Seller 5-link</td>\n",
       "      <td>Seller 5-storefrontlink</td>\n",
       "      <td>1-16 of over 1,000 results</td>\n",
       "      <td>81% positive in the last 12 months (52 ratings)</td>\n",
       "      <td>78 68yui678 is committed to providing each cus...</td>\n",
       "      <td>Business Name:shenzhenfeichangshangmeimaoyiyou...</td>\n",
       "      <td>minzhidadaoshaxialaocun94dongA901longhuaxinqus...</td>\n",
       "      <td>16</td>\n",
       "      <td>0</td>\n",
       "      <td>31</td>\n",
       "      <td>15</td>\n",
       "      <td>224</td>\n",
       "      <td>113</td>\n",
       "      <td>YUOKI99</td>\n",
       "      <td>https://www.amazon.de/-/en/s/ref=bl_dp_s_web_0...</td>\n",
       "    </tr>\n",
       "  </tbody>\n",
       "</table>\n",
       "</div>"
      ],
      "text/plain": [
       "  Date Added category sellerlink sellerlink-url     sellerstorefront-url  \\\n",
       "0 2020-11-15   Garden   Seller 1  Seller 1-link  Seller 1-storefrontlink   \n",
       "1 2020-11-15   Garden   Seller 2  Seller 2-link  Seller 2-storefrontlink   \n",
       "2 2020-11-15   Garden   Seller 3  Seller 3-link  Seller 3-storefrontlink   \n",
       "3 2020-11-15   Garden   Seller 4  Seller 4-link  Seller 4-storefrontlink   \n",
       "4 2020-11-15   Garden   Seller 5  Seller 5-link  Seller 5-storefrontlink   \n",
       "\n",
       "             sellerproductcount  \\\n",
       "0  1-16 of over 100,000 results   \n",
       "1                           NaN   \n",
       "2    1-16 of over 2,000 results   \n",
       "3           1-16 of 123 results   \n",
       "4    1-16 of over 1,000 results   \n",
       "\n",
       "                                      sellerratings  \\\n",
       "0  88% positive in the last 12 months (118 ratings)   \n",
       "1  90% positive in the last 12 months (566 ratings)   \n",
       "2   85% positive in the last 12 months (75 ratings)   \n",
       "3                                               NaN   \n",
       "4   81% positive in the last 12 months (52 ratings)   \n",
       "\n",
       "                                       sellerdetails  \\\n",
       "0  Lohas Living Inc James Mazzello US 845 3RD Ave...   \n",
       "1  Herzlich Willkommen im Amazon Shop von 1a-Hand...   \n",
       "2  67878u6i7 is committed to providing each custo...   \n",
       "3  7 days home life supermarket is committed to p...   \n",
       "4  78 68yui678 is committed to providing each cus...   \n",
       "\n",
       "                                seller business name  \\\n",
       "0                     Business Name:Lohas Living Inc   \n",
       "1                    Business Name:1a-Handelsagentur   \n",
       "2  Business Name:nantongaohuanfangzhipinyouxiango...   \n",
       "3   Business Name:Zhengzhou Yaoqiong Trading Company   \n",
       "4  Business Name:shenzhenfeichangshangmeimaoyiyou...   \n",
       "\n",
       "                                     businessaddress  Count of seller brands  \\\n",
       "0  411 THEODORE FREMD AVESTE 206 SOUTHRyeNY10580-...                      16   \n",
       "1  1a HandelsagenturLindenallee 2MalchowMecklenbu...                       0   \n",
       "2  zhongnanshijicheng27zhuang1410haochongchuanqun...                      15   \n",
       "3         河南省中兴南路福禄街自贸试验区郑州片区（郑东）河南商会大厦1901室450000CN                       1   \n",
       "4  minzhidadaoshaxialaocun94dongA901longhuaxinqus...                      16   \n",
       "\n",
       "   Max % of negative seller ratings - last 30 days  \\\n",
       "0                                               17   \n",
       "1                                                2   \n",
       "2                                                0   \n",
       "3                                                0   \n",
       "4                                                0   \n",
       "\n",
       "   Max % of negative seller ratings - last 90 days  \\\n",
       "0                                               11   \n",
       "1                                                2   \n",
       "2                                               25   \n",
       "3                                                0   \n",
       "4                                               31   \n",
       "\n",
       "   Max % of negative seller ratings - last 12 months  Hero Product 1 #ratings  \\\n",
       "0                                                 12                     5873   \n",
       "1                                                  9                        0   \n",
       "2                                                 12                      164   \n",
       "3                                                  0                        0   \n",
       "4                                                 15                      224   \n",
       "\n",
       "   Hero Product 2 #ratings         Sample brand name  \\\n",
       "0                     4957  Visit the YAMAZAKI Store   \n",
       "1                        0      Visit the tesa Store   \n",
       "2                      162                    TXYFYP   \n",
       "3                        0                   SHIFENG   \n",
       "4                      113                   YUOKI99   \n",
       "\n",
       "                                    Sample Brand URL  \n",
       "0  https://www.amazon.de/-/en/stores/YAMAZAKI/pag...  \n",
       "1  https://www.amazon.de/-/en/stores/tesa/page/12...  \n",
       "2  https://www.amazon.de/-/en/s/ref=bl_dp_s_web_0...  \n",
       "3  https://www.amazon.de/-/en/s/ref=bl_dp_s_web_0...  \n",
       "4  https://www.amazon.de/-/en/s/ref=bl_dp_s_web_0...  "
      ]
     },
     "execution_count": 4,
     "metadata": {},
     "output_type": "execute_result"
    }
   ],
   "source": [
    "df=pd.read_excel(\"Sample_Longlist_Data.xlsx\")\n",
    "df.head()"
   ]
  },
  {
   "cell_type": "markdown",
   "metadata": {
    "id": "bp6rzgclOP-0"
   },
   "source": [
    "**Info about the Dataset**"
   ]
  },
  {
   "cell_type": "code",
   "execution_count": 5,
   "metadata": {
    "colab": {
     "base_uri": "https://localhost:8080/"
    },
    "id": "GJYetu0FEpVU",
    "outputId": "51bcf3e4-9fb5-4ffd-c390-966789aa5e76"
   },
   "outputs": [
    {
     "name": "stdout",
     "output_type": "stream",
     "text": [
      "<class 'pandas.core.frame.DataFrame'>\n",
      "RangeIndex: 1839 entries, 0 to 1838\n",
      "Data columns (total 18 columns):\n",
      " #   Column                                             Non-Null Count  Dtype         \n",
      "---  ------                                             --------------  -----         \n",
      " 0   Date Added                                         1839 non-null   datetime64[ns]\n",
      " 1   category                                           1839 non-null   object        \n",
      " 2   sellerlink                                         1839 non-null   object        \n",
      " 3   sellerlink-url                                     1839 non-null   object        \n",
      " 4   sellerstorefront-url                               1839 non-null   object        \n",
      " 5   sellerproductcount                                 1513 non-null   object        \n",
      " 6   sellerratings                                      1411 non-null   object        \n",
      " 7   sellerdetails                                      1812 non-null   object        \n",
      " 8   seller business name                               1783 non-null   object        \n",
      " 9   businessaddress                                    1764 non-null   object        \n",
      " 10  Count of seller brands                             1839 non-null   int64         \n",
      " 11  Max % of negative seller ratings - last 30 days    1839 non-null   int64         \n",
      " 12  Max % of negative seller ratings - last 90 days    1839 non-null   int64         \n",
      " 13  Max % of negative seller ratings - last 12 months  1839 non-null   int64         \n",
      " 14  Hero Product 1 #ratings                            1839 non-null   int64         \n",
      " 15  Hero Product 2 #ratings                            1839 non-null   int64         \n",
      " 16  Sample brand name                                  1835 non-null   object        \n",
      " 17  Sample Brand URL                                   1839 non-null   object        \n",
      "dtypes: datetime64[ns](1), int64(6), object(11)\n",
      "memory usage: 258.7+ KB\n"
     ]
    }
   ],
   "source": [
    "df.info()"
   ]
  },
  {
   "cell_type": "code",
   "execution_count": 6,
   "metadata": {
    "colab": {
     "base_uri": "https://localhost:8080/"
    },
    "id": "BG-RmciKEpVV",
    "outputId": "89b9f96a-f026-4cea-c1bd-c3385406062a"
   },
   "outputs": [
    {
     "data": {
      "text/plain": [
       "(1839, 18)"
      ]
     },
     "execution_count": 6,
     "metadata": {},
     "output_type": "execute_result"
    }
   ],
   "source": [
    "df.shape"
   ]
  },
  {
   "cell_type": "markdown",
   "metadata": {
    "id": "DHscAUuAOnmO"
   },
   "source": [
    "**There are 1839 rows and 18 columns**"
   ]
  },
  {
   "cell_type": "markdown",
   "metadata": {
    "id": "UfZLeZrDOg7v"
   },
   "source": [
    "**Parsing column sellerproductcount**"
   ]
  },
  {
   "cell_type": "code",
   "execution_count": 7,
   "metadata": {
    "colab": {
     "base_uri": "https://localhost:8080/"
    },
    "id": "C--U5qGFEpVV",
    "outputId": "967f5460-806f-4f5d-c3b5-726284286913"
   },
   "outputs": [
    {
     "data": {
      "text/plain": [
       "1-16 of over 1,000 results     205\n",
       "1-16 of over 2,000 results     168\n",
       "1-16 of over 10,000 results    124\n",
       "1-16 of over 3,000 results     108\n",
       "1-16 of over 4,000 results      78\n",
       "                              ... \n",
       "1-16 of 45 results               1\n",
       "1-16 of 244 results              1\n",
       "1-16 of 104 results              1\n",
       "1-16 of 477 results              1\n",
       "1-16 of 473 results              1\n",
       "Name: sellerproductcount, Length: 394, dtype: int64"
      ]
     },
     "execution_count": 7,
     "metadata": {},
     "output_type": "execute_result"
    }
   ],
   "source": [
    "df[\"sellerproductcount\"].value_counts()"
   ]
  },
  {
   "cell_type": "code",
   "execution_count": 8,
   "metadata": {
    "id": "W3KCzikdEpVV"
   },
   "outputs": [],
   "source": [
    "df[\"sellerproductcount\"]=df[\"sellerproductcount\"].str.split(\"[sellerproductcount]\",expand=True)[4]"
   ]
  },
  {
   "cell_type": "code",
   "execution_count": 9,
   "metadata": {
    "id": "WKQZHGfUEpVW"
   },
   "outputs": [],
   "source": [
    "df[\"sellerproductcount\"]=df[\"sellerproductcount\"].str.replace(',', '')"
   ]
  },
  {
   "cell_type": "markdown",
   "metadata": {
    "id": "5aUyx4RZOtq8"
   },
   "source": [
    "**Parsing column businessaddress**"
   ]
  },
  {
   "cell_type": "code",
   "execution_count": 10,
   "metadata": {
    "id": "HvLybMlWEpVW"
   },
   "outputs": [],
   "source": [
    "countries=[\"US\",\"DE\"]\n",
    "df[\"businessaddress\"]=df[\"businessaddress\"].astype(str)\n",
    "        \n",
    "            "
   ]
  },
  {
   "cell_type": "code",
   "execution_count": 11,
   "metadata": {
    "id": "id2x1ge0EpVX"
   },
   "outputs": [],
   "source": [
    "address=[]\n",
    "for i in df[\"businessaddress\"]:\n",
    "    address.append(i[-2:])"
   ]
  },
  {
   "cell_type": "code",
   "execution_count": 12,
   "metadata": {
    "id": "_OF_6CHxEpVX"
   },
   "outputs": [],
   "source": [
    "\n",
    "df[\"businessaddressnew\"]=pd.DataFrame(address)"
   ]
  },
  {
   "cell_type": "code",
   "execution_count": 13,
   "metadata": {
    "id": "b5wmxDchEpVY"
   },
   "outputs": [],
   "source": [
    "\n",
    "df=df[df.businessaddressnew.isin(countries)]"
   ]
  },
  {
   "cell_type": "code",
   "execution_count": 14,
   "metadata": {
    "colab": {
     "base_uri": "https://localhost:8080/"
    },
    "id": "rceQY6WQEpVY",
    "outputId": "ec1b524d-f2fe-4b60-b675-bca307291927"
   },
   "outputs": [
    {
     "data": {
      "text/plain": [
       "DE    364\n",
       "US     14\n",
       "Name: businessaddressnew, dtype: int64"
      ]
     },
     "execution_count": 14,
     "metadata": {},
     "output_type": "execute_result"
    }
   ],
   "source": [
    "df[\"businessaddressnew\"].value_counts()"
   ]
  },
  {
   "cell_type": "markdown",
   "metadata": {
    "id": "LhNe5I4rOynj"
   },
   "source": [
    "**Considering only the sellers belonging to US and germany**"
   ]
  },
  {
   "cell_type": "markdown",
   "metadata": {
    "id": "5xKvZhZYO3d3"
   },
   "source": [
    "**Extracting emil-id and phone numbers of the sellers**"
   ]
  },
  {
   "cell_type": "code",
   "execution_count": 15,
   "metadata": {
    "id": "zKTV4uuvEpVY"
   },
   "outputs": [],
   "source": [
    "df['Email_address']=df['sellerdetails'].str.findall(\"(?:[a-z0-9!#$%&'*+/=?^_`{|}~-]+(?:\\.[a-z0-9!#$%&'*+/=?^_`{|}~-]+)*|'(?:[\\x01-\\x08\\x0b\\x0c\\x0e-\\x1f\\x21\\x23-\\x5b\\x5d-\\x7f]|\\\\[\\x01-\\x09\\x0b\\x0c\\x0e-\\x7f])*')@(?:(?:[a-z0-9](?:[a-z0-9-]*[a-z0-9])?\\.)+[a-z0-9](?:[a-z0-9-]*[a-z0-9])?|\\[(?:(?:25[0-5]|2[0-4][0-9]|[01]?[0-9][0-9]?)\\.){3}(?:25[0-5]|2[0-4][0-9]|[01]?[0-9][0-9]?|[a-z0-9-]*[a-z0-9]:(?:[\\x01-\\x08\\x0b\\x0c\\x0e-\\x1f\\x21-\\x5a\\x53-\\x7f]|\\\\[\\x01-\\x09\\x0b\\x0c\\x0e-\\x7f])+)\\])\")"
   ]
  },
  {
   "cell_type": "code",
   "execution_count": 16,
   "metadata": {
    "colab": {
     "base_uri": "https://localhost:8080/",
     "height": 90
    },
    "id": "BnoKebR7EpVY",
    "outputId": "5d1a72c5-e022-468f-b8f6-06eed84445c6"
   },
   "outputs": [
    {
     "data": {
      "text/plain": [
       "'Blumenbecker Industriebedarf GmbH Sudhoferweg 99-107 59269 Beckum Geschäftsführer: Dipl. Kfm. Richard Mayer, Olaf Lingnau Handelsregister: Amtsgericht Münster HRB 7020 Ust-IdNr: DE 214 670 936 Telefon: 02521/8406-0 E-Mail: bib.beckum@blumenbecker.com   \\nDie Europäische Kommission bietet eine Onlineplattform für Streitbeilegung an, die Sie hier finden: https://ec.europa.eu/consumers/odr/\\n\\nUnter diesem Link finden Sie die Kontaktdaten der offiziellen Streitbeilegungsstellen: https://webgate.ec.europa...'"
      ]
     },
     "execution_count": 16,
     "metadata": {},
     "output_type": "execute_result"
    }
   ],
   "source": [
    "df[\"sellerdetails\"].iloc[5]"
   ]
  },
  {
   "cell_type": "code",
   "execution_count": 17,
   "metadata": {
    "colab": {
     "base_uri": "https://localhost:8080/"
    },
    "id": "hI9NRycwEpVZ",
    "outputId": "94f4b3fa-2592-4c88-ead3-29c961ee1176"
   },
   "outputs": [
    {
     "data": {
      "text/plain": [
       "0       Lohas Living Inc James Mazzello US 845 3RD Ave...\n",
       "1       Herzlich Willkommen im Amazon Shop von 1a-Hand...\n",
       "14      Impressum  Gesetzliche Anbieterkennung:  Olive...\n",
       "19      Impressum: ABC-Schnäppchenmarkt GmbH  Jösser W...\n",
       "22      Bestof Floral is committed to providing each c...\n",
       "                              ...                        \n",
       "1779    Impressum  Gesetzliche Anbieterkennung:  Rolan...\n",
       "1780    Matthias Löchelt Ruhrstraße 13 59955 Winterber...\n",
       "1781    Impressum  Gesetzliche Anbieterkennung:  Danie...\n",
       "1808    Zündholz Riesa is committed to providing each ...\n",
       "1814    Reinhard Joormann -FansandTrends- e.K.   Im St...\n",
       "Name: sellerdetails, Length: 378, dtype: object"
      ]
     },
     "execution_count": 17,
     "metadata": {},
     "output_type": "execute_result"
    }
   ],
   "source": [
    "df[\"sellerdetails\"].str.replace('/(\\r\\n)+|\\r+|\\n+|\\t+/','')"
   ]
  },
  {
   "cell_type": "code",
   "execution_count": 18,
   "metadata": {
    "id": "5GRUMs_ZEpVZ"
   },
   "outputs": [],
   "source": [
    "df[\"sellerdetails\"]=df[\"sellerdetails\"].str.replace(\"-\",'')"
   ]
  },
  {
   "cell_type": "code",
   "execution_count": 19,
   "metadata": {
    "id": "r66NlCnkEpVZ"
   },
   "outputs": [],
   "source": [
    "df[\"sellerdetails\"]=df[\"sellerdetails\"].str.replace('\\n','')"
   ]
  },
  {
   "cell_type": "code",
   "execution_count": 20,
   "metadata": {
    "id": "xETQ_tWJEpVa"
   },
   "outputs": [],
   "source": [
    "df[\"sellerdetails\"]=df[\"sellerdetails\"].str.replace('/','')"
   ]
  },
  {
   "cell_type": "code",
   "execution_count": 21,
   "metadata": {
    "id": "5V8IFzK9EpVa"
   },
   "outputs": [],
   "source": [
    "df[\"sellerdetails\"]=df[\"sellerdetails\"].str.replace('|','')"
   ]
  },
  {
   "cell_type": "code",
   "execution_count": 22,
   "metadata": {
    "id": "Pj5RESnkEpVb"
   },
   "outputs": [],
   "source": [
    "df[\"sellerdetails\"]=df[\"sellerdetails\"].str.replace(\"(?<=\\\\d) +(?=\\\\d)\",\"\")"
   ]
  },
  {
   "cell_type": "code",
   "execution_count": 23,
   "metadata": {
    "id": "m19hzudTEpVb"
   },
   "outputs": [],
   "source": [
    "df[\"phone_number\"]=df['sellerdetails'].str.findall(r\"(\\b\\d{10}|d{12}|d{14})\")"
   ]
  },
  {
   "cell_type": "code",
   "execution_count": 24,
   "metadata": {
    "colab": {
     "base_uri": "https://localhost:8080/"
    },
    "id": "tpjVFJ81EpVc",
    "outputId": "760f4282-ecea-4d60-eaba-9b8a4b12be0d"
   },
   "outputs": [
    {
     "data": {
      "text/plain": [
       "'Blumenbecker Industriebedarf GmbH Sudhoferweg 9910759269 Beckum Geschäftsführer: Dipl. Kfm. Richard Mayer, Olaf Lingnau Handelsregister: Amtsgericht Münster HRB 7020 UstIdNr: DE 214670936 Telefon: 0252184060 EMail: bib.beckum@blumenbecker.com   Die Europäische Kommission bietet eine Onlineplattform für Streitbeilegung an, die Sie hier finden: https:ec.europa.euconsumersodrUnter diesem Link finden Sie die Kontaktdaten der offiziellen Streitbeilegungsstellen: https:webgate.ec.europa...'"
      ]
     },
     "execution_count": 24,
     "metadata": {},
     "output_type": "execute_result"
    }
   ],
   "source": [
    "df['sellerdetails'].iloc[5]"
   ]
  },
  {
   "cell_type": "code",
   "execution_count": 25,
   "metadata": {
    "colab": {
     "base_uri": "https://localhost:8080/"
    },
    "id": "gCAV7r6oEpVc",
    "outputId": "c69ba88f-0494-4829-da36-a039380f7895"
   },
   "outputs": [
    {
     "data": {
      "text/plain": [
       "['9910759269', '0252184060']"
      ]
     },
     "execution_count": 25,
     "metadata": {},
     "output_type": "execute_result"
    }
   ],
   "source": [
    "df[\"phone_number\"].iloc[5]"
   ]
  },
  {
   "cell_type": "markdown",
   "metadata": {
    "id": "azpuIFfEO-zA"
   },
   "source": [
    "**Extracting the positive ratings into the column no of ratings**"
   ]
  },
  {
   "cell_type": "code",
   "execution_count": 26,
   "metadata": {
    "id": "90crrkrDEpVc"
   },
   "outputs": [],
   "source": [
    "df[\"%_positive_ratings\"]=df[\"sellerratings\"].str.split(\"%\",expand=True)[0]"
   ]
  },
  {
   "cell_type": "code",
   "execution_count": 27,
   "metadata": {
    "id": "ZMbnJA_ZEpVc"
   },
   "outputs": [],
   "source": [
    "df[\"no_of_ratings\"]=df[\"sellerratings\"].str.split(\"(\",expand=True)[1]"
   ]
  },
  {
   "cell_type": "code",
   "execution_count": 28,
   "metadata": {
    "id": "JyTNLR00EpVd"
   },
   "outputs": [],
   "source": [
    "df[\"no_of_ratings\"]=df[\"no_of_ratings\"].str.extract(\"([0-9]+)\")"
   ]
  },
  {
   "cell_type": "code",
   "execution_count": 29,
   "metadata": {
    "colab": {
     "base_uri": "https://localhost:8080/"
    },
    "id": "NuF7BZEsEpVd",
    "outputId": "c736c0ed-1914-4e35-cd5f-cbd4b787350a"
   },
   "outputs": [
    {
     "data": {
      "text/plain": [
       "0        118\n",
       "1        566\n",
       "14       116\n",
       "19      3721\n",
       "22        10\n",
       "        ... \n",
       "1779      34\n",
       "1780     631\n",
       "1781     196\n",
       "1808      16\n",
       "1814    3075\n",
       "Name: no_of_ratings, Length: 378, dtype: object"
      ]
     },
     "execution_count": 29,
     "metadata": {},
     "output_type": "execute_result"
    }
   ],
   "source": [
    "df[\"no_of_ratings\"]"
   ]
  },
  {
   "cell_type": "code",
   "execution_count": 30,
   "metadata": {
    "colab": {
     "base_uri": "https://localhost:8080/"
    },
    "id": "3771zRZ1EpVd",
    "outputId": "69fcd12e-d74c-43bc-fb42-79f03759ab5c"
   },
   "outputs": [
    {
     "data": {
      "text/html": [
       "<div>\n",
       "<style scoped>\n",
       "    .dataframe tbody tr th:only-of-type {\n",
       "        vertical-align: middle;\n",
       "    }\n",
       "\n",
       "    .dataframe tbody tr th {\n",
       "        vertical-align: top;\n",
       "    }\n",
       "\n",
       "    .dataframe thead th {\n",
       "        text-align: right;\n",
       "    }\n",
       "</style>\n",
       "<table border=\"1\" class=\"dataframe\">\n",
       "  <thead>\n",
       "    <tr style=\"text-align: right;\">\n",
       "      <th></th>\n",
       "      <th>Date Added</th>\n",
       "      <th>category</th>\n",
       "      <th>sellerlink</th>\n",
       "      <th>sellerlink-url</th>\n",
       "      <th>sellerstorefront-url</th>\n",
       "      <th>sellerproductcount</th>\n",
       "      <th>sellerratings</th>\n",
       "      <th>sellerdetails</th>\n",
       "      <th>seller business name</th>\n",
       "      <th>businessaddress</th>\n",
       "      <th>...</th>\n",
       "      <th>Max % of negative seller ratings - last 12 months</th>\n",
       "      <th>Hero Product 1 #ratings</th>\n",
       "      <th>Hero Product 2 #ratings</th>\n",
       "      <th>Sample brand name</th>\n",
       "      <th>Sample Brand URL</th>\n",
       "      <th>businessaddressnew</th>\n",
       "      <th>Email_address</th>\n",
       "      <th>phone_number</th>\n",
       "      <th>%_positive_ratings</th>\n",
       "      <th>no_of_ratings</th>\n",
       "    </tr>\n",
       "  </thead>\n",
       "  <tbody>\n",
       "    <tr>\n",
       "      <th>0</th>\n",
       "      <td>2020-11-15</td>\n",
       "      <td>Garden</td>\n",
       "      <td>Seller 1</td>\n",
       "      <td>Seller 1-link</td>\n",
       "      <td>Seller 1-storefrontlink</td>\n",
       "      <td>100000</td>\n",
       "      <td>88% positive in the last 12 months (118 ratings)</td>\n",
       "      <td>Lohas Living Inc James Mazzello US 8453RD Ave ...</td>\n",
       "      <td>Business Name:Lohas Living Inc</td>\n",
       "      <td>411 THEODORE FREMD AVESTE 206 SOUTHRyeNY10580-...</td>\n",
       "      <td>...</td>\n",
       "      <td>12</td>\n",
       "      <td>5873</td>\n",
       "      <td>4957</td>\n",
       "      <td>Visit the YAMAZAKI Store</td>\n",
       "      <td>https://www.amazon.de/-/en/stores/YAMAZAKI/pag...</td>\n",
       "      <td>US</td>\n",
       "      <td>[jadgemaello@gmail.com]</td>\n",
       "      <td>[1208964680, 1208964680]</td>\n",
       "      <td>88</td>\n",
       "      <td>118</td>\n",
       "    </tr>\n",
       "    <tr>\n",
       "      <th>1</th>\n",
       "      <td>2020-11-15</td>\n",
       "      <td>Garden</td>\n",
       "      <td>Seller 2</td>\n",
       "      <td>Seller 2-link</td>\n",
       "      <td>Seller 2-storefrontlink</td>\n",
       "      <td>NaN</td>\n",
       "      <td>90% positive in the last 12 months (566 ratings)</td>\n",
       "      <td>Herzlich Willkommen im Amazon Shop von 1aHande...</td>\n",
       "      <td>Business Name:1a-Handelsagentur</td>\n",
       "      <td>1a HandelsagenturLindenallee 2MalchowMecklenbu...</td>\n",
       "      <td>...</td>\n",
       "      <td>9</td>\n",
       "      <td>0</td>\n",
       "      <td>0</td>\n",
       "      <td>Visit the tesa Store</td>\n",
       "      <td>https://www.amazon.de/-/en/stores/tesa/page/12...</td>\n",
       "      <td>DE</td>\n",
       "      <td>[info@1a-handelsagentur.de, info@1a-handelsage...</td>\n",
       "      <td>[0399328297, 0399328297]</td>\n",
       "      <td>90</td>\n",
       "      <td>566</td>\n",
       "    </tr>\n",
       "    <tr>\n",
       "      <th>14</th>\n",
       "      <td>2020-11-15</td>\n",
       "      <td>Garden</td>\n",
       "      <td>Seller 15</td>\n",
       "      <td>Seller 15-link</td>\n",
       "      <td>Seller 15-storefrontlink</td>\n",
       "      <td></td>\n",
       "      <td>97% positive in the last 12 months (116 ratings)</td>\n",
       "      <td>Impressum  Gesetzliche Anbieterkennung:  Olive...</td>\n",
       "      <td>Business Name:Oliver Mills</td>\n",
       "      <td>Kaiserstr.12Borgholzhausen33829DE</td>\n",
       "      <td>...</td>\n",
       "      <td>3</td>\n",
       "      <td>1446</td>\n",
       "      <td>921</td>\n",
       "      <td>Unbekannt</td>\n",
       "      <td>https://www.amazon.de/-/en/Unbekannt/b/ref=bl_...</td>\n",
       "      <td>DE</td>\n",
       "      <td>[webmaster@9pm-store.de]</td>\n",
       "      <td>[0151400085]</td>\n",
       "      <td>97</td>\n",
       "      <td>116</td>\n",
       "    </tr>\n",
       "    <tr>\n",
       "      <th>19</th>\n",
       "      <td>2020-11-15</td>\n",
       "      <td>Garden</td>\n",
       "      <td>Seller 20</td>\n",
       "      <td>Seller 20-link</td>\n",
       "      <td>Seller 20-storefrontlink</td>\n",
       "      <td>NaN</td>\n",
       "      <td>76% positive in the last 12 months (3721 ratings)</td>\n",
       "      <td>Impressum: ABCSchnäppchenmarkt GmbH  Jösser We...</td>\n",
       "      <td>Business Name:ABC-Schnäppchenmarkt GmbH</td>\n",
       "      <td>Jösser Weg10Petershagen32469DE</td>\n",
       "      <td>...</td>\n",
       "      <td>20</td>\n",
       "      <td>0</td>\n",
       "      <td>0</td>\n",
       "      <td>Visit the TFA Dostmann Store</td>\n",
       "      <td>https://www.amazon.de/-/en/stores/TFA+Dostmann...</td>\n",
       "      <td>DE</td>\n",
       "      <td>[abc-markt@web.de]</td>\n",
       "      <td>[0570591155, 0570591156]</td>\n",
       "      <td>76</td>\n",
       "      <td>3721</td>\n",
       "    </tr>\n",
       "    <tr>\n",
       "      <th>22</th>\n",
       "      <td>2020-11-15</td>\n",
       "      <td>Garden</td>\n",
       "      <td>Seller 23</td>\n",
       "      <td>Seller 23-link</td>\n",
       "      <td>Seller 23-storefrontlink</td>\n",
       "      <td>40000</td>\n",
       "      <td>100% positive in the last 12 months (10 ratings)</td>\n",
       "      <td>Bestof Floral is committed to providing each c...</td>\n",
       "      <td>Business Name:MADEWELL SUPPLY INC</td>\n",
       "      <td>90 BROAD ST 2ND FLOORNEW YORKNY10004-2205US</td>\n",
       "      <td>...</td>\n",
       "      <td>0</td>\n",
       "      <td>10538</td>\n",
       "      <td>8293</td>\n",
       "      <td>Visit the Seville Classics Store</td>\n",
       "      <td>https://www.amazon.de/-/en/stores/Seville+Clas...</td>\n",
       "      <td>US</td>\n",
       "      <td>[]</td>\n",
       "      <td>[]</td>\n",
       "      <td>100</td>\n",
       "      <td>10</td>\n",
       "    </tr>\n",
       "  </tbody>\n",
       "</table>\n",
       "<p>5 rows × 23 columns</p>\n",
       "</div>"
      ],
      "text/plain": [
       "   Date Added category sellerlink  sellerlink-url      sellerstorefront-url  \\\n",
       "0  2020-11-15   Garden   Seller 1   Seller 1-link   Seller 1-storefrontlink   \n",
       "1  2020-11-15   Garden   Seller 2   Seller 2-link   Seller 2-storefrontlink   \n",
       "14 2020-11-15   Garden  Seller 15  Seller 15-link  Seller 15-storefrontlink   \n",
       "19 2020-11-15   Garden  Seller 20  Seller 20-link  Seller 20-storefrontlink   \n",
       "22 2020-11-15   Garden  Seller 23  Seller 23-link  Seller 23-storefrontlink   \n",
       "\n",
       "   sellerproductcount                                      sellerratings  \\\n",
       "0             100000    88% positive in the last 12 months (118 ratings)   \n",
       "1                 NaN   90% positive in the last 12 months (566 ratings)   \n",
       "14                      97% positive in the last 12 months (116 ratings)   \n",
       "19                NaN  76% positive in the last 12 months (3721 ratings)   \n",
       "22             40000    100% positive in the last 12 months (10 ratings)   \n",
       "\n",
       "                                        sellerdetails  \\\n",
       "0   Lohas Living Inc James Mazzello US 8453RD Ave ...   \n",
       "1   Herzlich Willkommen im Amazon Shop von 1aHande...   \n",
       "14  Impressum  Gesetzliche Anbieterkennung:  Olive...   \n",
       "19  Impressum: ABCSchnäppchenmarkt GmbH  Jösser We...   \n",
       "22  Bestof Floral is committed to providing each c...   \n",
       "\n",
       "                       seller business name  \\\n",
       "0            Business Name:Lohas Living Inc   \n",
       "1           Business Name:1a-Handelsagentur   \n",
       "14               Business Name:Oliver Mills   \n",
       "19  Business Name:ABC-Schnäppchenmarkt GmbH   \n",
       "22        Business Name:MADEWELL SUPPLY INC   \n",
       "\n",
       "                                      businessaddress  ...  \\\n",
       "0   411 THEODORE FREMD AVESTE 206 SOUTHRyeNY10580-...  ...   \n",
       "1   1a HandelsagenturLindenallee 2MalchowMecklenbu...  ...   \n",
       "14                  Kaiserstr.12Borgholzhausen33829DE  ...   \n",
       "19                     Jösser Weg10Petershagen32469DE  ...   \n",
       "22        90 BROAD ST 2ND FLOORNEW YORKNY10004-2205US  ...   \n",
       "\n",
       "    Max % of negative seller ratings - last 12 months  \\\n",
       "0                                                  12   \n",
       "1                                                   9   \n",
       "14                                                  3   \n",
       "19                                                 20   \n",
       "22                                                  0   \n",
       "\n",
       "    Hero Product 1 #ratings  Hero Product 2 #ratings  \\\n",
       "0                      5873                     4957   \n",
       "1                         0                        0   \n",
       "14                     1446                      921   \n",
       "19                        0                        0   \n",
       "22                    10538                     8293   \n",
       "\n",
       "                   Sample brand name  \\\n",
       "0           Visit the YAMAZAKI Store   \n",
       "1               Visit the tesa Store   \n",
       "14                         Unbekannt   \n",
       "19      Visit the TFA Dostmann Store   \n",
       "22  Visit the Seville Classics Store   \n",
       "\n",
       "                                     Sample Brand URL  businessaddressnew  \\\n",
       "0   https://www.amazon.de/-/en/stores/YAMAZAKI/pag...                  US   \n",
       "1   https://www.amazon.de/-/en/stores/tesa/page/12...                  DE   \n",
       "14  https://www.amazon.de/-/en/Unbekannt/b/ref=bl_...                  DE   \n",
       "19  https://www.amazon.de/-/en/stores/TFA+Dostmann...                  DE   \n",
       "22  https://www.amazon.de/-/en/stores/Seville+Clas...                  US   \n",
       "\n",
       "                                        Email_address  \\\n",
       "0                             [jadgemaello@gmail.com]   \n",
       "1   [info@1a-handelsagentur.de, info@1a-handelsage...   \n",
       "14                           [webmaster@9pm-store.de]   \n",
       "19                                 [abc-markt@web.de]   \n",
       "22                                                 []   \n",
       "\n",
       "                phone_number %_positive_ratings no_of_ratings  \n",
       "0   [1208964680, 1208964680]                 88           118  \n",
       "1   [0399328297, 0399328297]                 90           566  \n",
       "14              [0151400085]                 97           116  \n",
       "19  [0570591155, 0570591156]                 76          3721  \n",
       "22                        []                100            10  \n",
       "\n",
       "[5 rows x 23 columns]"
      ]
     },
     "execution_count": 30,
     "metadata": {},
     "output_type": "execute_result"
    }
   ],
   "source": [
    "df.head()"
   ]
  },
  {
   "cell_type": "markdown",
   "metadata": {
    "id": "CTocTwuLPIiY"
   },
   "source": [
    "**Taking only the required columns for our analysis**"
   ]
  },
  {
   "cell_type": "code",
   "execution_count": 31,
   "metadata": {
    "id": "qiL4qE2fEpVd"
   },
   "outputs": [],
   "source": [
    "df1=df[[\"sellerproductcount\",\"sellerlink\",\"no_of_ratings\",\"Hero Product 1 #ratings\",\"Hero Product 2 #ratings\",\"Sample brand name\",\"businessaddressnew\",\"Email_address\",\"phone_number\",\"%_positive_ratings\"]]"
   ]
  },
  {
   "cell_type": "code",
   "execution_count": 32,
   "metadata": {
    "colab": {
     "base_uri": "https://localhost:8080/"
    },
    "id": "1N6ZyS8iEpVd",
    "outputId": "8462e9d9-3c41-471c-c3e8-150dff8ab48c"
   },
   "outputs": [
    {
     "data": {
      "text/html": [
       "<div>\n",
       "<style scoped>\n",
       "    .dataframe tbody tr th:only-of-type {\n",
       "        vertical-align: middle;\n",
       "    }\n",
       "\n",
       "    .dataframe tbody tr th {\n",
       "        vertical-align: top;\n",
       "    }\n",
       "\n",
       "    .dataframe thead th {\n",
       "        text-align: right;\n",
       "    }\n",
       "</style>\n",
       "<table border=\"1\" class=\"dataframe\">\n",
       "  <thead>\n",
       "    <tr style=\"text-align: right;\">\n",
       "      <th></th>\n",
       "      <th>sellerproductcount</th>\n",
       "      <th>sellerlink</th>\n",
       "      <th>no_of_ratings</th>\n",
       "      <th>Hero Product 1 #ratings</th>\n",
       "      <th>Hero Product 2 #ratings</th>\n",
       "      <th>Sample brand name</th>\n",
       "      <th>businessaddressnew</th>\n",
       "      <th>Email_address</th>\n",
       "      <th>phone_number</th>\n",
       "      <th>%_positive_ratings</th>\n",
       "    </tr>\n",
       "  </thead>\n",
       "  <tbody>\n",
       "    <tr>\n",
       "      <th>0</th>\n",
       "      <td>100000</td>\n",
       "      <td>Seller 1</td>\n",
       "      <td>118</td>\n",
       "      <td>5873</td>\n",
       "      <td>4957</td>\n",
       "      <td>Visit the YAMAZAKI Store</td>\n",
       "      <td>US</td>\n",
       "      <td>[jadgemaello@gmail.com]</td>\n",
       "      <td>[1208964680, 1208964680]</td>\n",
       "      <td>88</td>\n",
       "    </tr>\n",
       "    <tr>\n",
       "      <th>1</th>\n",
       "      <td>NaN</td>\n",
       "      <td>Seller 2</td>\n",
       "      <td>566</td>\n",
       "      <td>0</td>\n",
       "      <td>0</td>\n",
       "      <td>Visit the tesa Store</td>\n",
       "      <td>DE</td>\n",
       "      <td>[info@1a-handelsagentur.de, info@1a-handelsage...</td>\n",
       "      <td>[0399328297, 0399328297]</td>\n",
       "      <td>90</td>\n",
       "    </tr>\n",
       "    <tr>\n",
       "      <th>14</th>\n",
       "      <td></td>\n",
       "      <td>Seller 15</td>\n",
       "      <td>116</td>\n",
       "      <td>1446</td>\n",
       "      <td>921</td>\n",
       "      <td>Unbekannt</td>\n",
       "      <td>DE</td>\n",
       "      <td>[webmaster@9pm-store.de]</td>\n",
       "      <td>[0151400085]</td>\n",
       "      <td>97</td>\n",
       "    </tr>\n",
       "    <tr>\n",
       "      <th>19</th>\n",
       "      <td>NaN</td>\n",
       "      <td>Seller 20</td>\n",
       "      <td>3721</td>\n",
       "      <td>0</td>\n",
       "      <td>0</td>\n",
       "      <td>Visit the TFA Dostmann Store</td>\n",
       "      <td>DE</td>\n",
       "      <td>[abc-markt@web.de]</td>\n",
       "      <td>[0570591155, 0570591156]</td>\n",
       "      <td>76</td>\n",
       "    </tr>\n",
       "    <tr>\n",
       "      <th>22</th>\n",
       "      <td>40000</td>\n",
       "      <td>Seller 23</td>\n",
       "      <td>10</td>\n",
       "      <td>10538</td>\n",
       "      <td>8293</td>\n",
       "      <td>Visit the Seville Classics Store</td>\n",
       "      <td>US</td>\n",
       "      <td>[]</td>\n",
       "      <td>[]</td>\n",
       "      <td>100</td>\n",
       "    </tr>\n",
       "  </tbody>\n",
       "</table>\n",
       "</div>"
      ],
      "text/plain": [
       "   sellerproductcount sellerlink no_of_ratings  Hero Product 1 #ratings  \\\n",
       "0             100000    Seller 1           118                     5873   \n",
       "1                 NaN   Seller 2           566                        0   \n",
       "14                     Seller 15           116                     1446   \n",
       "19                NaN  Seller 20          3721                        0   \n",
       "22             40000   Seller 23            10                    10538   \n",
       "\n",
       "    Hero Product 2 #ratings                 Sample brand name  \\\n",
       "0                      4957          Visit the YAMAZAKI Store   \n",
       "1                         0              Visit the tesa Store   \n",
       "14                      921                         Unbekannt   \n",
       "19                        0      Visit the TFA Dostmann Store   \n",
       "22                     8293  Visit the Seville Classics Store   \n",
       "\n",
       "   businessaddressnew                                      Email_address  \\\n",
       "0                  US                            [jadgemaello@gmail.com]   \n",
       "1                  DE  [info@1a-handelsagentur.de, info@1a-handelsage...   \n",
       "14                 DE                           [webmaster@9pm-store.de]   \n",
       "19                 DE                                 [abc-markt@web.de]   \n",
       "22                 US                                                 []   \n",
       "\n",
       "                phone_number %_positive_ratings  \n",
       "0   [1208964680, 1208964680]                 88  \n",
       "1   [0399328297, 0399328297]                 90  \n",
       "14              [0151400085]                 97  \n",
       "19  [0570591155, 0570591156]                 76  \n",
       "22                        []                100  "
      ]
     },
     "execution_count": 32,
     "metadata": {},
     "output_type": "execute_result"
    }
   ],
   "source": [
    "df1.head()"
   ]
  },
  {
   "cell_type": "code",
   "execution_count": 33,
   "metadata": {
    "colab": {
     "base_uri": "https://localhost:8080/"
    },
    "id": "fr7iNUxaKbtr",
    "outputId": "9bf21bd2-fb1d-4a3a-81ed-d9705f14dac2"
   },
   "outputs": [
    {
     "name": "stdout",
     "output_type": "stream",
     "text": [
      "<class 'pandas.core.frame.DataFrame'>\n",
      "Int64Index: 378 entries, 0 to 1814\n",
      "Data columns (total 10 columns):\n",
      " #   Column                   Non-Null Count  Dtype \n",
      "---  ------                   --------------  ----- \n",
      " 0   sellerproductcount       316 non-null    object\n",
      " 1   sellerlink               378 non-null    object\n",
      " 2   no_of_ratings            376 non-null    object\n",
      " 3   Hero Product 1 #ratings  378 non-null    int64 \n",
      " 4   Hero Product 2 #ratings  378 non-null    int64 \n",
      " 5   Sample brand name        378 non-null    object\n",
      " 6   businessaddressnew       378 non-null    object\n",
      " 7   Email_address            376 non-null    object\n",
      " 8   phone_number             376 non-null    object\n",
      " 9   %_positive_ratings       376 non-null    object\n",
      "dtypes: int64(2), object(8)\n",
      "memory usage: 32.5+ KB\n"
     ]
    }
   ],
   "source": [
    "df1.info()"
   ]
  },
  {
   "cell_type": "markdown",
   "metadata": {
    "id": "OVLFI4L_POyd"
   },
   "source": [
    "**Checking for null values**"
   ]
  },
  {
   "cell_type": "code",
   "execution_count": 34,
   "metadata": {
    "colab": {
     "base_uri": "https://localhost:8080/"
    },
    "id": "RHwBFO1pKdkP",
    "outputId": "70f45265-6e29-4946-db9d-7d06ef520dd0"
   },
   "outputs": [
    {
     "data": {
      "text/plain": [
       "sellerproductcount         62\n",
       "sellerlink                  0\n",
       "no_of_ratings               2\n",
       "Hero Product 1 #ratings     0\n",
       "Hero Product 2 #ratings     0\n",
       "Sample brand name           0\n",
       "businessaddressnew          0\n",
       "Email_address               2\n",
       "phone_number                2\n",
       "%_positive_ratings          2\n",
       "dtype: int64"
      ]
     },
     "execution_count": 34,
     "metadata": {},
     "output_type": "execute_result"
    }
   ],
   "source": [
    "df1.isnull().sum()"
   ]
  },
  {
   "cell_type": "markdown",
   "metadata": {
    "id": "XQtIluv9PSul"
   },
   "source": [
    "**There are 62 null values in the column sellerproductcount and 2 in column no_of_ratings,2 in email_address,2 in phone_number,2 in %_positive_ratings columns**"
   ]
  },
  {
   "cell_type": "code",
   "execution_count": 35,
   "metadata": {
    "colab": {
     "base_uri": "https://localhost:8080/"
    },
    "id": "siWKjqmREpVe",
    "outputId": "ac145de6-e89c-4a65-9a5e-a2f9d8fb7536"
   },
   "outputs": [
    {
     "data": {
      "text/plain": [
       "62"
      ]
     },
     "execution_count": 35,
     "metadata": {},
     "output_type": "execute_result"
    }
   ],
   "source": [
    "df1[\"sellerproductcount\"].isnull().sum()"
   ]
  },
  {
   "cell_type": "code",
   "execution_count": 36,
   "metadata": {
    "id": "OxDuH8rHEpVe"
   },
   "outputs": [],
   "source": [
    "df1[\"sellerproductcount\"]=pd.to_numeric(df1['sellerproductcount'], errors='coerce')"
   ]
  },
  {
   "cell_type": "markdown",
   "metadata": {
    "id": "WA1qkKmUPfmo"
   },
   "source": [
    "**Filling the null values in sellerproductcount column with the median values**"
   ]
  },
  {
   "cell_type": "code",
   "execution_count": 37,
   "metadata": {
    "id": "DwkGh_kwEpVe"
   },
   "outputs": [],
   "source": [
    "df1[\"sellerproductcount\"].fillna(df1[\"sellerproductcount\"].median(),inplace=True)\n",
    "df1[\"no_of_ratings\"].fillna(df1[\"no_of_ratings\"].median(), inplace=True)\n",
    "df1[\"%_positive_ratings\"].fillna(df1[\"%_positive_ratings\"].median(), inplace=True)\n",
    "df1[\"Email_address\"].fillna(\"not_available\", inplace=True)\n",
    "df1[\"phone_number\"].fillna(\"not_available\", inplace=True)"
   ]
  },
  {
   "cell_type": "markdown",
   "metadata": {
    "id": "gXJRSqiaPqZ-"
   },
   "source": [
    "**Dropping the other null values as they are less than 30% using dropna**"
   ]
  },
  {
   "cell_type": "code",
   "execution_count": 38,
   "metadata": {
    "id": "j9cp1ROzEpVf"
   },
   "outputs": [],
   "source": [
    "med1=df1[\"sellerproductcount\"].median()"
   ]
  },
  {
   "cell_type": "code",
   "execution_count": 39,
   "metadata": {
    "colab": {
     "base_uri": "https://localhost:8080/"
    },
    "id": "jnRJ0tkFEpVf",
    "outputId": "5c796cfc-74b8-4be0-f33c-44f4ca91335c"
   },
   "outputs": [
    {
     "data": {
      "text/plain": [
       "sellerproductcount         0\n",
       "sellerlink                 0\n",
       "no_of_ratings              0\n",
       "Hero Product 1 #ratings    0\n",
       "Hero Product 2 #ratings    0\n",
       "Sample brand name          0\n",
       "businessaddressnew         0\n",
       "Email_address              0\n",
       "phone_number               0\n",
       "%_positive_ratings         0\n",
       "dtype: int64"
      ]
     },
     "execution_count": 39,
     "metadata": {},
     "output_type": "execute_result"
    }
   ],
   "source": [
    "df1.isnull().sum()"
   ]
  },
  {
   "cell_type": "code",
   "execution_count": 40,
   "metadata": {
    "colab": {
     "base_uri": "https://localhost:8080/"
    },
    "id": "XGjRz55JFULw",
    "outputId": "2fda39b9-be34-442c-a75c-172af839736c"
   },
   "outputs": [
    {
     "data": {
      "image/png": "[encoded data removed]",
      "text/plain": [
       "<Figure size 1080x360 with 1 Axes>"
      ]
     },
     "metadata": {
      "needs_background": "light"
     },
     "output_type": "display_data"
    }
   ],
   "source": [
    "plt.figure(figsize=(15,5))\n",
    "df1.boxplot()\n",
    "plt.show()"
   ]
  },
  {
   "cell_type": "markdown",
   "metadata": {
    "id": "48RgxBOBFtWk"
   },
   "source": [
    "**There are outliers in the dataset**"
   ]
  },
  {
   "cell_type": "code",
   "execution_count": 39,
   "metadata": {
    "id": "7gySXUpoFxbo"
   },
   "outputs": [],
   "source": [
    "# Q1 = df1.quantile(0.25)\n",
    "# Q3 = df1.quantile(0.75)\n",
    "# IQR = Q3 - Q1\n",
    "# df1 = df1[~((df1 < (Q1 - 1.5 * IQR)) | (df1 > (Q3 + 1.5 * IQR))).any(axis=1)]\n",
    "# df1.shape"
   ]
  },
  {
   "cell_type": "markdown",
   "metadata": {
    "id": "zhtTEA8UEpVg"
   },
   "source": [
    "****"
   ]
  },
  {
   "cell_type": "code",
   "execution_count": 41,
   "metadata": {
    "id": "9czcL8cdN5-j"
   },
   "outputs": [],
   "source": [
    "df1[\"no_of_ratings\"]=pd.to_numeric(df1['no_of_ratings'], errors='coerce')\n",
    "\n",
    "df1[\"%_positive_ratings\"]=pd.to_numeric(df1['%_positive_ratings'], errors='coerce')\n"
   ]
  },
  {
   "cell_type": "code",
   "execution_count": 42,
   "metadata": {
    "colab": {
     "base_uri": "https://localhost:8080/"
    },
    "id": "TSzNurRWOZWq",
    "outputId": "2e5bc0ec-b1c6-41fc-ccd1-3c25180d82a3"
   },
   "outputs": [
    {
     "name": "stdout",
     "output_type": "stream",
     "text": [
      "<class 'pandas.core.frame.DataFrame'>\n",
      "Int64Index: 378 entries, 0 to 1814\n",
      "Data columns (total 10 columns):\n",
      " #   Column                   Non-Null Count  Dtype  \n",
      "---  ------                   --------------  -----  \n",
      " 0   sellerproductcount       378 non-null    float64\n",
      " 1   sellerlink               378 non-null    object \n",
      " 2   no_of_ratings            378 non-null    float64\n",
      " 3   Hero Product 1 #ratings  378 non-null    int64  \n",
      " 4   Hero Product 2 #ratings  378 non-null    int64  \n",
      " 5   Sample brand name        378 non-null    object \n",
      " 6   businessaddressnew       378 non-null    object \n",
      " 7   Email_address            378 non-null    object \n",
      " 8   phone_number             378 non-null    object \n",
      " 9   %_positive_ratings       378 non-null    float64\n",
      "dtypes: float64(3), int64(2), object(5)\n",
      "memory usage: 32.5+ KB\n"
     ]
    }
   ],
   "source": [
    "df1.info()"
   ]
  },
  {
   "cell_type": "code",
   "execution_count": 43,
   "metadata": {
    "colab": {
     "base_uri": "https://localhost:8080/"
    },
    "id": "k8dm1CDNOecr",
    "outputId": "8019c8b9-057f-41f8-e593-221c1b22c365"
   },
   "outputs": [
    {
     "data": {
      "text/html": [
       "<div>\n",
       "<style scoped>\n",
       "    .dataframe tbody tr th:only-of-type {\n",
       "        vertical-align: middle;\n",
       "    }\n",
       "\n",
       "    .dataframe tbody tr th {\n",
       "        vertical-align: top;\n",
       "    }\n",
       "\n",
       "    .dataframe thead th {\n",
       "        text-align: right;\n",
       "    }\n",
       "</style>\n",
       "<table border=\"1\" class=\"dataframe\">\n",
       "  <thead>\n",
       "    <tr style=\"text-align: right;\">\n",
       "      <th></th>\n",
       "      <th>sellerproductcount</th>\n",
       "      <th>no_of_ratings</th>\n",
       "      <th>Hero Product 1 #ratings</th>\n",
       "      <th>Hero Product 2 #ratings</th>\n",
       "      <th>%_positive_ratings</th>\n",
       "    </tr>\n",
       "  </thead>\n",
       "  <tbody>\n",
       "    <tr>\n",
       "      <th>count</th>\n",
       "      <td>378.000000</td>\n",
       "      <td>378.000000</td>\n",
       "      <td>378.000000</td>\n",
       "      <td>378.000000</td>\n",
       "      <td>378.000000</td>\n",
       "    </tr>\n",
       "    <tr>\n",
       "      <th>mean</th>\n",
       "      <td>6804.232804</td>\n",
       "      <td>615.386243</td>\n",
       "      <td>4156.732804</td>\n",
       "      <td>2339.899471</td>\n",
       "      <td>93.642857</td>\n",
       "    </tr>\n",
       "    <tr>\n",
       "      <th>std</th>\n",
       "      <td>15399.844399</td>\n",
       "      <td>2158.108113</td>\n",
       "      <td>10027.472378</td>\n",
       "      <td>6735.508463</td>\n",
       "      <td>7.300809</td>\n",
       "    </tr>\n",
       "    <tr>\n",
       "      <th>min</th>\n",
       "      <td>1000.000000</td>\n",
       "      <td>1.000000</td>\n",
       "      <td>0.000000</td>\n",
       "      <td>0.000000</td>\n",
       "      <td>25.000000</td>\n",
       "    </tr>\n",
       "    <tr>\n",
       "      <th>25%</th>\n",
       "      <td>3000.000000</td>\n",
       "      <td>47.000000</td>\n",
       "      <td>44.500000</td>\n",
       "      <td>23.500000</td>\n",
       "      <td>92.000000</td>\n",
       "    </tr>\n",
       "    <tr>\n",
       "      <th>50%</th>\n",
       "      <td>3000.000000</td>\n",
       "      <td>154.500000</td>\n",
       "      <td>716.000000</td>\n",
       "      <td>321.000000</td>\n",
       "      <td>96.000000</td>\n",
       "    </tr>\n",
       "    <tr>\n",
       "      <th>75%</th>\n",
       "      <td>3000.000000</td>\n",
       "      <td>445.500000</td>\n",
       "      <td>3260.500000</td>\n",
       "      <td>1789.500000</td>\n",
       "      <td>98.000000</td>\n",
       "    </tr>\n",
       "    <tr>\n",
       "      <th>max</th>\n",
       "      <td>100000.000000</td>\n",
       "      <td>37124.000000</td>\n",
       "      <td>77714.000000</td>\n",
       "      <td>70732.000000</td>\n",
       "      <td>100.000000</td>\n",
       "    </tr>\n",
       "  </tbody>\n",
       "</table>\n",
       "</div>"
      ],
      "text/plain": [
       "       sellerproductcount  no_of_ratings  Hero Product 1 #ratings  \\\n",
       "count          378.000000     378.000000               378.000000   \n",
       "mean          6804.232804     615.386243              4156.732804   \n",
       "std          15399.844399    2158.108113             10027.472378   \n",
       "min           1000.000000       1.000000                 0.000000   \n",
       "25%           3000.000000      47.000000                44.500000   \n",
       "50%           3000.000000     154.500000               716.000000   \n",
       "75%           3000.000000     445.500000              3260.500000   \n",
       "max         100000.000000   37124.000000             77714.000000   \n",
       "\n",
       "       Hero Product 2 #ratings  %_positive_ratings  \n",
       "count               378.000000          378.000000  \n",
       "mean               2339.899471           93.642857  \n",
       "std                6735.508463            7.300809  \n",
       "min                   0.000000           25.000000  \n",
       "25%                  23.500000           92.000000  \n",
       "50%                 321.000000           96.000000  \n",
       "75%                1789.500000           98.000000  \n",
       "max               70732.000000          100.000000  "
      ]
     },
     "execution_count": 43,
     "metadata": {},
     "output_type": "execute_result"
    }
   ],
   "source": [
    "df1.describe()"
   ]
  },
  {
   "cell_type": "markdown",
   "metadata": {
    "id": "LzqBaserPBZf"
   },
   "source": [
    "**The average number of ratings is 615 and the average ratings given for hero product 1 is 4156 and the average ratings for product 2\n",
    "is 2329 the average % of positive ratings given is 93%**"
   ]
  },
  {
   "cell_type": "markdown",
   "metadata": {
    "id": "7hi29nshPRnr"
   },
   "source": [
    "**UNIVARIATE ANALYSIS**"
   ]
  },
  {
   "cell_type": "code",
   "execution_count": 43,
   "metadata": {
    "colab": {
     "base_uri": "https://localhost:8080/"
    },
    "id": "B2G0rh1APKLj",
    "outputId": "5d8e0366-0d30-4ed4-daca-75114cf19328"
   },
   "outputs": [
    {
     "data": {
      "text/plain": [
       "array(['US', 'DE'], dtype=object)"
      ]
     },
     "execution_count": 43,
     "metadata": {},
     "output_type": "execute_result"
    }
   ],
   "source": [
    "df1[\"businessaddressnew\"].unique()"
   ]
  },
  {
   "cell_type": "code",
   "execution_count": 45,
   "metadata": {
    "colab": {
     "base_uri": "https://localhost:8080/"
    },
    "id": "_mJse6SWPoGR",
    "outputId": "dc7dfc14-3267-465f-a928-f985c549fa82"
   },
   "outputs": [
    {
     "data": {
      "image/png": "[encoded data removed]",
      "text/plain": [
       "<Figure size 360x432 with 1 Axes>"
      ]
     },
     "metadata": {
      "needs_background": "light"
     },
     "output_type": "display_data"
    }
   ],
   "source": [
    "\n",
    "plt.figure(figsize=(5,6))\n",
    "plt.bar(['US','DE'],df1.businessaddressnew.value_counts(),width=0.8,color=['yellow', 'black'])\n",
    "plt.xlabel('count of countries')\n",
    "plt.ylabel('Count')\n",
    "plt.title('Country')\n",
    "plt.show()"
   ]
  },
  {
   "cell_type": "markdown",
   "metadata": {
    "id": "NnxS-4XuRFsO"
   },
   "source": [
    "**The sellers mostly belong to US and more than 350 sellers belong to US and about 30 sellers belong to Germany**"
   ]
  },
  {
   "cell_type": "code",
   "execution_count": 45,
   "metadata": {
    "colab": {
     "base_uri": "https://localhost:8080/"
    },
    "id": "w859BrkXRUN-",
    "outputId": "beb26ea1-3971-4801-e23f-e11bf7c66936"
   },
   "outputs": [
    {
     "data": {
      "text/plain": [
       "Index(['sellerproductcount', 'sellerlink', 'no_of_ratings',\n",
       "       'Hero Product 1 #ratings', 'Hero Product 2 #ratings',\n",
       "       'Sample brand name', 'businessaddressnew', 'Email_address',\n",
       "       'phone_number', '%_positive_ratings'],\n",
       "      dtype='object')"
      ]
     },
     "execution_count": 45,
     "metadata": {},
     "output_type": "execute_result"
    }
   ],
   "source": [
    "df1.columns"
   ]
  },
  {
   "cell_type": "markdown",
   "metadata": {
    "id": "8nkafIsrEkKm"
   },
   "source": [
    "# **Bivariate and Multivariate Analysis**"
   ]
  },
  {
   "cell_type": "markdown",
   "metadata": {
    "id": "LAnuigobScxA"
   },
   "source": [
    "# **Top 10 sellers with highest number of ratings**"
   ]
  },
  {
   "cell_type": "code",
   "execution_count": 46,
   "metadata": {
    "id": "LbwlazC5XTX7"
   },
   "outputs": [],
   "source": [
    "\n",
    "popularity_table=df1.groupby('sellerlink').agg({'%_positive_ratings':'mean','no_of_ratings':'mean'})"
   ]
  },
  {
   "cell_type": "code",
   "execution_count": 47,
   "metadata": {
    "id": "FumkkQJBYbQJ"
   },
   "outputs": [],
   "source": [
    "top_popularity_table=popularity_table[popularity_table['no_of_ratings']>100]"
   ]
  },
  {
   "cell_type": "code",
   "execution_count": 48,
   "metadata": {
    "id": "Nml7d481Yy7K"
   },
   "outputs": [],
   "source": [
    "#The top 10 sellers with maximum ratings \n",
    "z=top_popularity_table.sort_values('no_of_ratings',ascending=False).head(10)\n"
   ]
  },
  {
   "cell_type": "code",
   "execution_count": 49,
   "metadata": {
    "colab": {
     "base_uri": "https://localhost:8080/"
    },
    "id": "cE6PXJ4Hc9WK",
    "outputId": "94e20250-6efa-4f43-e289-ce596e93a0a3"
   },
   "outputs": [
    {
     "data": {
      "text/html": [
       "<div>\n",
       "<style scoped>\n",
       "    .dataframe tbody tr th:only-of-type {\n",
       "        vertical-align: middle;\n",
       "    }\n",
       "\n",
       "    .dataframe tbody tr th {\n",
       "        vertical-align: top;\n",
       "    }\n",
       "\n",
       "    .dataframe thead th {\n",
       "        text-align: right;\n",
       "    }\n",
       "</style>\n",
       "<table border=\"1\" class=\"dataframe\">\n",
       "  <thead>\n",
       "    <tr style=\"text-align: right;\">\n",
       "      <th></th>\n",
       "      <th>%_positive_ratings</th>\n",
       "      <th>no_of_ratings</th>\n",
       "    </tr>\n",
       "    <tr>\n",
       "      <th>sellerlink</th>\n",
       "      <th></th>\n",
       "      <th></th>\n",
       "    </tr>\n",
       "  </thead>\n",
       "  <tbody>\n",
       "    <tr>\n",
       "      <th>Seller 487</th>\n",
       "      <td>95.0</td>\n",
       "      <td>37124.0</td>\n",
       "    </tr>\n",
       "    <tr>\n",
       "      <th>Seller 497</th>\n",
       "      <td>90.0</td>\n",
       "      <td>8063.0</td>\n",
       "    </tr>\n",
       "    <tr>\n",
       "      <th>Seller 727</th>\n",
       "      <td>89.0</td>\n",
       "      <td>7242.0</td>\n",
       "    </tr>\n",
       "    <tr>\n",
       "      <th>Seller 475</th>\n",
       "      <td>96.0</td>\n",
       "      <td>6204.0</td>\n",
       "    </tr>\n",
       "    <tr>\n",
       "      <th>Seller 883</th>\n",
       "      <td>94.0</td>\n",
       "      <td>6086.0</td>\n",
       "    </tr>\n",
       "    <tr>\n",
       "      <th>Seller 753</th>\n",
       "      <td>95.0</td>\n",
       "      <td>5826.0</td>\n",
       "    </tr>\n",
       "    <tr>\n",
       "      <th>Seller 37</th>\n",
       "      <td>91.0</td>\n",
       "      <td>5150.0</td>\n",
       "    </tr>\n",
       "    <tr>\n",
       "      <th>Seller 558</th>\n",
       "      <td>94.0</td>\n",
       "      <td>4919.0</td>\n",
       "    </tr>\n",
       "    <tr>\n",
       "      <th>Seller 900</th>\n",
       "      <td>96.0</td>\n",
       "      <td>4204.0</td>\n",
       "    </tr>\n",
       "    <tr>\n",
       "      <th>Seller 54</th>\n",
       "      <td>95.0</td>\n",
       "      <td>4189.0</td>\n",
       "    </tr>\n",
       "  </tbody>\n",
       "</table>\n",
       "</div>"
      ],
      "text/plain": [
       "            %_positive_ratings  no_of_ratings\n",
       "sellerlink                                   \n",
       "Seller 487                95.0        37124.0\n",
       "Seller 497                90.0         8063.0\n",
       "Seller 727                89.0         7242.0\n",
       "Seller 475                96.0         6204.0\n",
       "Seller 883                94.0         6086.0\n",
       "Seller 753                95.0         5826.0\n",
       "Seller 37                 91.0         5150.0\n",
       "Seller 558                94.0         4919.0\n",
       "Seller 900                96.0         4204.0\n",
       "Seller 54                 95.0         4189.0"
      ]
     },
     "execution_count": 49,
     "metadata": {},
     "output_type": "execute_result"
    }
   ],
   "source": [
    "z"
   ]
  },
  {
   "cell_type": "markdown",
   "metadata": {
    "id": "llGcHwVxZItx"
   },
   "source": [
    "**The seller 487 got the highest number of ratings(37124) for his products with 95% of positive ratings**"
   ]
  },
  {
   "cell_type": "code",
   "execution_count": 59,
   "metadata": {},
   "outputs": [
    {
     "data": {
      "text/html": [
       "<div>\n",
       "<style scoped>\n",
       "    .dataframe tbody tr th:only-of-type {\n",
       "        vertical-align: middle;\n",
       "    }\n",
       "\n",
       "    .dataframe tbody tr th {\n",
       "        vertical-align: top;\n",
       "    }\n",
       "\n",
       "    .dataframe thead th {\n",
       "        text-align: right;\n",
       "    }\n",
       "</style>\n",
       "<table border=\"1\" class=\"dataframe\">\n",
       "  <thead>\n",
       "    <tr style=\"text-align: right;\">\n",
       "      <th></th>\n",
       "      <th>%_positive_ratings</th>\n",
       "      <th>no_of_ratings</th>\n",
       "    </tr>\n",
       "    <tr>\n",
       "      <th>sellerlink</th>\n",
       "      <th></th>\n",
       "      <th></th>\n",
       "    </tr>\n",
       "  </thead>\n",
       "  <tbody>\n",
       "    <tr>\n",
       "      <th>Seller 475</th>\n",
       "      <td>96.0</td>\n",
       "      <td>6204.0</td>\n",
       "    </tr>\n",
       "    <tr>\n",
       "      <th>Seller 900</th>\n",
       "      <td>96.0</td>\n",
       "      <td>4204.0</td>\n",
       "    </tr>\n",
       "    <tr>\n",
       "      <th>Seller 487</th>\n",
       "      <td>95.0</td>\n",
       "      <td>37124.0</td>\n",
       "    </tr>\n",
       "    <tr>\n",
       "      <th>Seller 753</th>\n",
       "      <td>95.0</td>\n",
       "      <td>5826.0</td>\n",
       "    </tr>\n",
       "    <tr>\n",
       "      <th>Seller 54</th>\n",
       "      <td>95.0</td>\n",
       "      <td>4189.0</td>\n",
       "    </tr>\n",
       "    <tr>\n",
       "      <th>Seller 883</th>\n",
       "      <td>94.0</td>\n",
       "      <td>6086.0</td>\n",
       "    </tr>\n",
       "    <tr>\n",
       "      <th>Seller 558</th>\n",
       "      <td>94.0</td>\n",
       "      <td>4919.0</td>\n",
       "    </tr>\n",
       "    <tr>\n",
       "      <th>Seller 37</th>\n",
       "      <td>91.0</td>\n",
       "      <td>5150.0</td>\n",
       "    </tr>\n",
       "    <tr>\n",
       "      <th>Seller 497</th>\n",
       "      <td>90.0</td>\n",
       "      <td>8063.0</td>\n",
       "    </tr>\n",
       "    <tr>\n",
       "      <th>Seller 727</th>\n",
       "      <td>89.0</td>\n",
       "      <td>7242.0</td>\n",
       "    </tr>\n",
       "  </tbody>\n",
       "</table>\n",
       "</div>"
      ],
      "text/plain": [
       "            %_positive_ratings  no_of_ratings\n",
       "sellerlink                                   \n",
       "Seller 475                96.0         6204.0\n",
       "Seller 900                96.0         4204.0\n",
       "Seller 487                95.0        37124.0\n",
       "Seller 753                95.0         5826.0\n",
       "Seller 54                 95.0         4189.0\n",
       "Seller 883                94.0         6086.0\n",
       "Seller 558                94.0         4919.0\n",
       "Seller 37                 91.0         5150.0\n",
       "Seller 497                90.0         8063.0\n",
       "Seller 727                89.0         7242.0"
      ]
     },
     "execution_count": 59,
     "metadata": {},
     "output_type": "execute_result"
    }
   ],
   "source": [
    "df_sorted= z.sort_values('%_positive_ratings',ascending=False)\n",
    "df_sorted"
   ]
  },
  {
   "cell_type": "code",
   "execution_count": 60,
   "metadata": {
    "colab": {
     "base_uri": "https://localhost:8080/",
     "height": 369
    },
    "id": "iadvxMTgdcHO",
    "outputId": "0218d02c-f550-45db-ddff-0c14abb3bb41"
   },
   "outputs": [
    {
     "data": {
      "image/png": "[encoded data removed]",
      "text/plain": [
       "<Figure size 1800x504 with 1 Axes>"
      ]
     },
     "metadata": {
      "needs_background": "light"
     },
     "output_type": "display_data"
    }
   ],
   "source": [
    "plt.figure(figsize=(25,7))\n",
    "plt.bar(z.index,z[\"%_positive_ratings\"],data=df_sorted,color='orange')\n",
    "plt.xlabel('seller')\n",
    "plt.ylabel('%_positive_ratings')\n",
    "plt.title('sellers vs %_positive_ratings')\n",
    "plt.show()"
   ]
  },
  {
   "cell_type": "markdown",
   "metadata": {},
   "source": [
    "#### seller 475 has the highest positive ratings of 96%"
   ]
  },
  {
   "cell_type": "code",
   "execution_count": 61,
   "metadata": {
    "colab": {
     "base_uri": "https://localhost:8080/",
     "height": 366
    },
    "id": "NDZGrUBmdsax",
    "outputId": "844f6f68-1b77-4331-ca23-27773732a5ab"
   },
   "outputs": [
    {
     "data": {
      "image/png": "[encoded data removed]",
      "text/plain": [
       "<Figure size 1800x504 with 1 Axes>"
      ]
     },
     "metadata": {
      "needs_background": "light"
     },
     "output_type": "display_data"
    }
   ],
   "source": [
    "plt.figure(figsize=(25,7))\n",
    "plt.bar(z.index,z[\"no_of_ratings\"],color=\"pink\")\n",
    "plt.xlabel('seller')\n",
    "plt.ylabel('no_of_ratings')\n",
    "plt.title('sellers vs no_of_ratings')\n",
    "plt.show()"
   ]
  },
  {
   "cell_type": "markdown",
   "metadata": {},
   "source": [
    "#### seller 487 has got the highest number of ratings "
   ]
  },
  {
   "cell_type": "code",
   "execution_count": 52,
   "metadata": {
    "colab": {
     "base_uri": "https://localhost:8080/"
    },
    "id": "FDrI9Vx9Ziye",
    "outputId": "1291b852-2d07-4fac-a6f6-51b8e241835f"
   },
   "outputs": [
    {
     "data": {
      "text/plain": [
       "Index(['sellerproductcount', 'sellerlink', 'no_of_ratings',\n",
       "       'Hero Product 1 #ratings', 'Hero Product 2 #ratings',\n",
       "       'Sample brand name', 'businessaddressnew', 'Email_address',\n",
       "       'phone_number', '%_positive_ratings'],\n",
       "      dtype='object')"
      ]
     },
     "execution_count": 52,
     "metadata": {},
     "output_type": "execute_result"
    }
   ],
   "source": [
    "df1.columns"
   ]
  },
  {
   "cell_type": "markdown",
   "metadata": {
    "id": "S4snwEDpSwu0"
   },
   "source": [
    "# **Top 10 sellers who has the highest number of ratings for hero product 1**"
   ]
  },
  {
   "cell_type": "code",
   "execution_count": 80,
   "metadata": {
    "id": "Q5QCARpCY__I"
   },
   "outputs": [],
   "source": [
    "\n",
    "popularity_table=df1.groupby('sellerlink').agg({'%_positive_ratings':'mean','no_of_ratings':'mean',\"Hero Product 1 #ratings\":\"mean\"})"
   ]
  },
  {
   "cell_type": "code",
   "execution_count": 88,
   "metadata": {
    "id": "262hxLraZue1"
   },
   "outputs": [],
   "source": [
    "top_popularity_table=popularity_table[popularity_table['Hero Product 1 #ratings']>1000]"
   ]
  },
  {
   "cell_type": "code",
   "execution_count": 89,
   "metadata": {
    "id": "7vQNkSoGZyXI"
   },
   "outputs": [],
   "source": [
    "y=top_popularity_table.sort_values('Hero Product 1 #ratings',ascending=False).head(10)"
   ]
  },
  {
   "cell_type": "code",
   "execution_count": 90,
   "metadata": {
    "colab": {
     "base_uri": "https://localhost:8080/",
     "height": 394
    },
    "id": "D6R1PA34d-3l",
    "outputId": "e8e1125b-b5c4-421b-fc04-2f54a445e09b"
   },
   "outputs": [
    {
     "data": {
      "text/html": [
       "<div>\n",
       "<style scoped>\n",
       "    .dataframe tbody tr th:only-of-type {\n",
       "        vertical-align: middle;\n",
       "    }\n",
       "\n",
       "    .dataframe tbody tr th {\n",
       "        vertical-align: top;\n",
       "    }\n",
       "\n",
       "    .dataframe thead th {\n",
       "        text-align: right;\n",
       "    }\n",
       "</style>\n",
       "<table border=\"1\" class=\"dataframe\">\n",
       "  <thead>\n",
       "    <tr style=\"text-align: right;\">\n",
       "      <th></th>\n",
       "      <th>%_positive_ratings</th>\n",
       "      <th>no_of_ratings</th>\n",
       "      <th>Hero Product 1 #ratings</th>\n",
       "    </tr>\n",
       "    <tr>\n",
       "      <th>sellerlink</th>\n",
       "      <th></th>\n",
       "      <th></th>\n",
       "      <th></th>\n",
       "    </tr>\n",
       "  </thead>\n",
       "  <tbody>\n",
       "    <tr>\n",
       "      <th>Seller 496</th>\n",
       "      <td>91.0</td>\n",
       "      <td>288.0</td>\n",
       "      <td>77714.0</td>\n",
       "    </tr>\n",
       "    <tr>\n",
       "      <th>Seller 323</th>\n",
       "      <td>92.0</td>\n",
       "      <td>699.0</td>\n",
       "      <td>71673.0</td>\n",
       "    </tr>\n",
       "    <tr>\n",
       "      <th>Seller 883</th>\n",
       "      <td>94.0</td>\n",
       "      <td>6086.0</td>\n",
       "      <td>66776.0</td>\n",
       "    </tr>\n",
       "    <tr>\n",
       "      <th>Seller 322</th>\n",
       "      <td>94.0</td>\n",
       "      <td>196.0</td>\n",
       "      <td>60384.0</td>\n",
       "    </tr>\n",
       "    <tr>\n",
       "      <th>Seller 1059</th>\n",
       "      <td>92.0</td>\n",
       "      <td>578.0</td>\n",
       "      <td>47340.0</td>\n",
       "    </tr>\n",
       "    <tr>\n",
       "      <th>Seller 101</th>\n",
       "      <td>97.0</td>\n",
       "      <td>3416.0</td>\n",
       "      <td>47337.0</td>\n",
       "    </tr>\n",
       "    <tr>\n",
       "      <th>Seller 986</th>\n",
       "      <td>94.0</td>\n",
       "      <td>363.0</td>\n",
       "      <td>40684.0</td>\n",
       "    </tr>\n",
       "    <tr>\n",
       "      <th>Seller 38</th>\n",
       "      <td>93.0</td>\n",
       "      <td>120.0</td>\n",
       "      <td>40684.0</td>\n",
       "    </tr>\n",
       "    <tr>\n",
       "      <th>Seller 54</th>\n",
       "      <td>95.0</td>\n",
       "      <td>4189.0</td>\n",
       "      <td>40684.0</td>\n",
       "    </tr>\n",
       "    <tr>\n",
       "      <th>Seller 37</th>\n",
       "      <td>91.0</td>\n",
       "      <td>5150.0</td>\n",
       "      <td>40683.0</td>\n",
       "    </tr>\n",
       "  </tbody>\n",
       "</table>\n",
       "</div>"
      ],
      "text/plain": [
       "             %_positive_ratings  no_of_ratings  Hero Product 1 #ratings\n",
       "sellerlink                                                             \n",
       "Seller 496                 91.0          288.0                  77714.0\n",
       "Seller 323                 92.0          699.0                  71673.0\n",
       "Seller 883                 94.0         6086.0                  66776.0\n",
       "Seller 322                 94.0          196.0                  60384.0\n",
       "Seller 1059                92.0          578.0                  47340.0\n",
       "Seller 101                 97.0         3416.0                  47337.0\n",
       "Seller 986                 94.0          363.0                  40684.0\n",
       "Seller 38                  93.0          120.0                  40684.0\n",
       "Seller 54                  95.0         4189.0                  40684.0\n",
       "Seller 37                  91.0         5150.0                  40683.0"
      ]
     },
     "execution_count": 90,
     "metadata": {},
     "output_type": "execute_result"
    }
   ],
   "source": [
    "y"
   ]
  },
  {
   "cell_type": "markdown",
   "metadata": {
    "id": "yvBLjREPacKs"
   },
   "source": [
    "**seller 496 has the highest number of ratings(77714) for hero product 1 where 92% of the ratings are positive out of 288 ratings**"
   ]
  },
  {
   "cell_type": "code",
   "execution_count": 91,
   "metadata": {
    "colab": {
     "base_uri": "https://localhost:8080/",
     "height": 367
    },
    "id": "AniUmiUVd2SO",
    "outputId": "6b48623c-5a53-4308-95e2-d2eedd9c2a71"
   },
   "outputs": [
    {
     "data": {
      "image/png": "[encoded data removed]",
      "text/plain": [
       "<Figure size 1800x504 with 1 Axes>"
      ]
     },
     "metadata": {
      "needs_background": "light"
     },
     "output_type": "display_data"
    }
   ],
   "source": [
    "plt.figure(figsize=(25,7))\n",
    "plt.bar(y.index,y[\"Hero Product 1 #ratings\"],color=\"purple\")\n",
    "plt.xlabel('seller')\n",
    "plt.ylabel('Hero product 1 #ratings')\n",
    "plt.title('sellers vs hero product 1#ratings')\n",
    "plt.show()"
   ]
  },
  {
   "cell_type": "code",
   "execution_count": 84,
   "metadata": {},
   "outputs": [
    {
     "data": {
      "text/html": [
       "<div>\n",
       "<style scoped>\n",
       "    .dataframe tbody tr th:only-of-type {\n",
       "        vertical-align: middle;\n",
       "    }\n",
       "\n",
       "    .dataframe tbody tr th {\n",
       "        vertical-align: top;\n",
       "    }\n",
       "\n",
       "    .dataframe thead th {\n",
       "        text-align: right;\n",
       "    }\n",
       "</style>\n",
       "<table border=\"1\" class=\"dataframe\">\n",
       "  <thead>\n",
       "    <tr style=\"text-align: right;\">\n",
       "      <th></th>\n",
       "      <th>%_positive_ratings</th>\n",
       "      <th>no_of_ratings</th>\n",
       "      <th>Hero Product 1 #ratings</th>\n",
       "    </tr>\n",
       "    <tr>\n",
       "      <th>sellerlink</th>\n",
       "      <th></th>\n",
       "      <th></th>\n",
       "      <th></th>\n",
       "    </tr>\n",
       "  </thead>\n",
       "  <tbody>\n",
       "    <tr>\n",
       "      <th>Seller 23</th>\n",
       "      <td>100.0</td>\n",
       "      <td>10.0</td>\n",
       "      <td>10538.0</td>\n",
       "    </tr>\n",
       "    <tr>\n",
       "      <th>Seller 158</th>\n",
       "      <td>100.0</td>\n",
       "      <td>576.0</td>\n",
       "      <td>2036.0</td>\n",
       "    </tr>\n",
       "    <tr>\n",
       "      <th>Seller 363</th>\n",
       "      <td>100.0</td>\n",
       "      <td>12.0</td>\n",
       "      <td>4091.0</td>\n",
       "    </tr>\n",
       "    <tr>\n",
       "      <th>Seller 283</th>\n",
       "      <td>100.0</td>\n",
       "      <td>30.0</td>\n",
       "      <td>2782.0</td>\n",
       "    </tr>\n",
       "    <tr>\n",
       "      <th>Seller 951</th>\n",
       "      <td>100.0</td>\n",
       "      <td>50.0</td>\n",
       "      <td>1650.0</td>\n",
       "    </tr>\n",
       "    <tr>\n",
       "      <th>Seller 800</th>\n",
       "      <td>100.0</td>\n",
       "      <td>11.0</td>\n",
       "      <td>5527.0</td>\n",
       "    </tr>\n",
       "    <tr>\n",
       "      <th>Seller 111</th>\n",
       "      <td>100.0</td>\n",
       "      <td>11.0</td>\n",
       "      <td>19698.0</td>\n",
       "    </tr>\n",
       "    <tr>\n",
       "      <th>Seller 1000</th>\n",
       "      <td>100.0</td>\n",
       "      <td>1.0</td>\n",
       "      <td>1225.0</td>\n",
       "    </tr>\n",
       "    <tr>\n",
       "      <th>Seller 157</th>\n",
       "      <td>100.0</td>\n",
       "      <td>28.0</td>\n",
       "      <td>2212.0</td>\n",
       "    </tr>\n",
       "    <tr>\n",
       "      <th>Seller 183</th>\n",
       "      <td>100.0</td>\n",
       "      <td>47.0</td>\n",
       "      <td>5499.0</td>\n",
       "    </tr>\n",
       "  </tbody>\n",
       "</table>\n",
       "</div>"
      ],
      "text/plain": [
       "             %_positive_ratings  no_of_ratings  Hero Product 1 #ratings\n",
       "sellerlink                                                             \n",
       "Seller 23                 100.0           10.0                  10538.0\n",
       "Seller 158                100.0          576.0                   2036.0\n",
       "Seller 363                100.0           12.0                   4091.0\n",
       "Seller 283                100.0           30.0                   2782.0\n",
       "Seller 951                100.0           50.0                   1650.0\n",
       "Seller 800                100.0           11.0                   5527.0\n",
       "Seller 111                100.0           11.0                  19698.0\n",
       "Seller 1000               100.0            1.0                   1225.0\n",
       "Seller 157                100.0           28.0                   2212.0\n",
       "Seller 183                100.0           47.0                   5499.0"
      ]
     },
     "execution_count": 84,
     "metadata": {},
     "output_type": "execute_result"
    }
   ],
   "source": [
    "y=top_popularity_table.sort_values('%_positive_ratings',ascending=False).head(10)\n",
    "y"
   ]
  },
  {
   "cell_type": "code",
   "execution_count": 85,
   "metadata": {},
   "outputs": [
    {
     "data": {
      "image/png": "[encoded data removed]",
      "text/plain": [
       "<Figure size 1800x504 with 1 Axes>"
      ]
     },
     "metadata": {
      "needs_background": "light"
     },
     "output_type": "display_data"
    }
   ],
   "source": [
    "plt.figure(figsize=(25,7))\n",
    "plt.bar(y.index,y[\"%_positive_ratings\"],color=\"blue\")\n",
    "plt.xlabel('seller')\n",
    "plt.ylabel('Hero product 1 #ratings')\n",
    "plt.title('sellers vs hero product 1 +ve ratings')\n",
    "plt.show()"
   ]
  },
  {
   "cell_type": "markdown",
   "metadata": {},
   "source": [
    "#### The above are the top 10 sellers whose ratings were all positive for the hero product1"
   ]
  },
  {
   "cell_type": "markdown",
   "metadata": {
    "id": "TlHK3McbS6nZ"
   },
   "source": [
    "# **Top 10 sellers with highest number of ratings for hero product 2**"
   ]
  },
  {
   "cell_type": "code",
   "execution_count": 71,
   "metadata": {
    "id": "_TQrp7JpZyaE"
   },
   "outputs": [],
   "source": [
    "\n",
    "popularity_table=df1.groupby('sellerlink').agg({'%_positive_ratings':'mean','no_of_ratings':'mean',\"Hero Product 2 #ratings\":\"mean\"})"
   ]
  },
  {
   "cell_type": "code",
   "execution_count": 72,
   "metadata": {
    "id": "WjNetya6Zygm"
   },
   "outputs": [],
   "source": [
    "top_popularity_table=popularity_table[popularity_table['Hero Product 2 #ratings']>1000]"
   ]
  },
  {
   "cell_type": "code",
   "execution_count": 73,
   "metadata": {
    "id": "jXZhFG40bZZ-"
   },
   "outputs": [],
   "source": [
    "x=top_popularity_table.sort_values('Hero Product 2 #ratings',ascending=False).head(10)"
   ]
  },
  {
   "cell_type": "code",
   "execution_count": 74,
   "metadata": {
    "colab": {
     "base_uri": "https://localhost:8080/",
     "height": 394
    },
    "id": "-eWJJTllcO46",
    "outputId": "0f87e693-d5fe-4a08-e798-f976b7e6edf6"
   },
   "outputs": [
    {
     "data": {
      "text/html": [
       "<div>\n",
       "<style scoped>\n",
       "    .dataframe tbody tr th:only-of-type {\n",
       "        vertical-align: middle;\n",
       "    }\n",
       "\n",
       "    .dataframe tbody tr th {\n",
       "        vertical-align: top;\n",
       "    }\n",
       "\n",
       "    .dataframe thead th {\n",
       "        text-align: right;\n",
       "    }\n",
       "</style>\n",
       "<table border=\"1\" class=\"dataframe\">\n",
       "  <thead>\n",
       "    <tr style=\"text-align: right;\">\n",
       "      <th></th>\n",
       "      <th>%_positive_ratings</th>\n",
       "      <th>no_of_ratings</th>\n",
       "      <th>Hero Product 2 #ratings</th>\n",
       "    </tr>\n",
       "    <tr>\n",
       "      <th>sellerlink</th>\n",
       "      <th></th>\n",
       "      <th></th>\n",
       "      <th></th>\n",
       "    </tr>\n",
       "  </thead>\n",
       "  <tbody>\n",
       "    <tr>\n",
       "      <th>Seller 496</th>\n",
       "      <td>91.0</td>\n",
       "      <td>288.0</td>\n",
       "      <td>70732.0</td>\n",
       "    </tr>\n",
       "    <tr>\n",
       "      <th>Seller 323</th>\n",
       "      <td>92.0</td>\n",
       "      <td>699.0</td>\n",
       "      <td>58332.0</td>\n",
       "    </tr>\n",
       "    <tr>\n",
       "      <th>Seller 322</th>\n",
       "      <td>94.0</td>\n",
       "      <td>196.0</td>\n",
       "      <td>57769.0</td>\n",
       "    </tr>\n",
       "    <tr>\n",
       "      <th>Seller 883</th>\n",
       "      <td>94.0</td>\n",
       "      <td>6086.0</td>\n",
       "      <td>32420.0</td>\n",
       "    </tr>\n",
       "    <tr>\n",
       "      <th>Seller 101</th>\n",
       "      <td>97.0</td>\n",
       "      <td>3416.0</td>\n",
       "      <td>32420.0</td>\n",
       "    </tr>\n",
       "    <tr>\n",
       "      <th>Seller 838</th>\n",
       "      <td>80.0</td>\n",
       "      <td>415.0</td>\n",
       "      <td>30140.0</td>\n",
       "    </tr>\n",
       "    <tr>\n",
       "      <th>Seller 37</th>\n",
       "      <td>91.0</td>\n",
       "      <td>5150.0</td>\n",
       "      <td>18910.0</td>\n",
       "    </tr>\n",
       "    <tr>\n",
       "      <th>Seller 1059</th>\n",
       "      <td>92.0</td>\n",
       "      <td>578.0</td>\n",
       "      <td>18561.0</td>\n",
       "    </tr>\n",
       "    <tr>\n",
       "      <th>Seller 657</th>\n",
       "      <td>96.0</td>\n",
       "      <td>77.0</td>\n",
       "      <td>16960.0</td>\n",
       "    </tr>\n",
       "    <tr>\n",
       "      <th>Seller 27</th>\n",
       "      <td>79.0</td>\n",
       "      <td>119.0</td>\n",
       "      <td>13566.0</td>\n",
       "    </tr>\n",
       "  </tbody>\n",
       "</table>\n",
       "</div>"
      ],
      "text/plain": [
       "             %_positive_ratings  no_of_ratings  Hero Product 2 #ratings\n",
       "sellerlink                                                             \n",
       "Seller 496                 91.0          288.0                  70732.0\n",
       "Seller 323                 92.0          699.0                  58332.0\n",
       "Seller 322                 94.0          196.0                  57769.0\n",
       "Seller 883                 94.0         6086.0                  32420.0\n",
       "Seller 101                 97.0         3416.0                  32420.0\n",
       "Seller 838                 80.0          415.0                  30140.0\n",
       "Seller 37                  91.0         5150.0                  18910.0\n",
       "Seller 1059                92.0          578.0                  18561.0\n",
       "Seller 657                 96.0           77.0                  16960.0\n",
       "Seller 27                  79.0          119.0                  13566.0"
      ]
     },
     "execution_count": 74,
     "metadata": {},
     "output_type": "execute_result"
    }
   ],
   "source": [
    "x"
   ]
  },
  {
   "cell_type": "markdown",
   "metadata": {
    "id": "GtYLbwnbbgmG"
   },
   "source": [
    "**Again seller 496 has the highest number of ratings for hero product 2 where 91% of the ratings are positive**"
   ]
  },
  {
   "cell_type": "code",
   "execution_count": 76,
   "metadata": {},
   "outputs": [
    {
     "data": {
      "text/html": [
       "<div>\n",
       "<style scoped>\n",
       "    .dataframe tbody tr th:only-of-type {\n",
       "        vertical-align: middle;\n",
       "    }\n",
       "\n",
       "    .dataframe tbody tr th {\n",
       "        vertical-align: top;\n",
       "    }\n",
       "\n",
       "    .dataframe thead th {\n",
       "        text-align: right;\n",
       "    }\n",
       "</style>\n",
       "<table border=\"1\" class=\"dataframe\">\n",
       "  <thead>\n",
       "    <tr style=\"text-align: right;\">\n",
       "      <th></th>\n",
       "      <th>%_positive_ratings</th>\n",
       "      <th>no_of_ratings</th>\n",
       "      <th>Hero Product 2 #ratings</th>\n",
       "    </tr>\n",
       "    <tr>\n",
       "      <th>sellerlink</th>\n",
       "      <th></th>\n",
       "      <th></th>\n",
       "      <th></th>\n",
       "    </tr>\n",
       "  </thead>\n",
       "  <tbody>\n",
       "    <tr>\n",
       "      <th>Seller 157</th>\n",
       "      <td>100.0</td>\n",
       "      <td>28.0</td>\n",
       "      <td>1416.0</td>\n",
       "    </tr>\n",
       "    <tr>\n",
       "      <th>Seller 209</th>\n",
       "      <td>100.0</td>\n",
       "      <td>35.0</td>\n",
       "      <td>5800.0</td>\n",
       "    </tr>\n",
       "    <tr>\n",
       "      <th>Seller 23</th>\n",
       "      <td>100.0</td>\n",
       "      <td>10.0</td>\n",
       "      <td>8293.0</td>\n",
       "    </tr>\n",
       "    <tr>\n",
       "      <th>Seller 72</th>\n",
       "      <td>100.0</td>\n",
       "      <td>56.0</td>\n",
       "      <td>2750.0</td>\n",
       "    </tr>\n",
       "    <tr>\n",
       "      <th>Seller 111</th>\n",
       "      <td>100.0</td>\n",
       "      <td>11.0</td>\n",
       "      <td>2620.0</td>\n",
       "    </tr>\n",
       "    <tr>\n",
       "      <th>Seller 158</th>\n",
       "      <td>100.0</td>\n",
       "      <td>576.0</td>\n",
       "      <td>1525.0</td>\n",
       "    </tr>\n",
       "    <tr>\n",
       "      <th>Seller 183</th>\n",
       "      <td>100.0</td>\n",
       "      <td>47.0</td>\n",
       "      <td>2644.0</td>\n",
       "    </tr>\n",
       "    <tr>\n",
       "      <th>Seller 800</th>\n",
       "      <td>100.0</td>\n",
       "      <td>11.0</td>\n",
       "      <td>3843.0</td>\n",
       "    </tr>\n",
       "    <tr>\n",
       "      <th>Seller 363</th>\n",
       "      <td>100.0</td>\n",
       "      <td>12.0</td>\n",
       "      <td>1794.0</td>\n",
       "    </tr>\n",
       "    <tr>\n",
       "      <th>Seller 1047</th>\n",
       "      <td>99.0</td>\n",
       "      <td>2950.0</td>\n",
       "      <td>3079.0</td>\n",
       "    </tr>\n",
       "  </tbody>\n",
       "</table>\n",
       "</div>"
      ],
      "text/plain": [
       "             %_positive_ratings  no_of_ratings  Hero Product 2 #ratings\n",
       "sellerlink                                                             \n",
       "Seller 157                100.0           28.0                   1416.0\n",
       "Seller 209                100.0           35.0                   5800.0\n",
       "Seller 23                 100.0           10.0                   8293.0\n",
       "Seller 72                 100.0           56.0                   2750.0\n",
       "Seller 111                100.0           11.0                   2620.0\n",
       "Seller 158                100.0          576.0                   1525.0\n",
       "Seller 183                100.0           47.0                   2644.0\n",
       "Seller 800                100.0           11.0                   3843.0\n",
       "Seller 363                100.0           12.0                   1794.0\n",
       "Seller 1047                99.0         2950.0                   3079.0"
      ]
     },
     "execution_count": 76,
     "metadata": {},
     "output_type": "execute_result"
    }
   ],
   "source": [
    "c=top_popularity_table.sort_values('%_positive_ratings',ascending=False).head(10)\n",
    "c"
   ]
  },
  {
   "cell_type": "code",
   "execution_count": 78,
   "metadata": {},
   "outputs": [
    {
     "data": {
      "image/png": "[encoded data removed]",
      "text/plain": [
       "<Figure size 1800x504 with 1 Axes>"
      ]
     },
     "metadata": {
      "needs_background": "light"
     },
     "output_type": "display_data"
    }
   ],
   "source": [
    "plt.figure(figsize=(25,7))\n",
    "plt.bar(c.index,c[\"%_positive_ratings\"],color=\"lime\")\n",
    "plt.xlabel('seller')\n",
    "plt.ylabel('%_positive_ratings')\n",
    "plt.title('sellers vs %positive ratings')\n",
    "plt.show()"
   ]
  },
  {
   "cell_type": "markdown",
   "metadata": {},
   "source": [
    "### sellers 157,209,23,72,111,158,183,800,363 have all the ratings as positive "
   ]
  },
  {
   "cell_type": "code",
   "execution_count": 63,
   "metadata": {
    "colab": {
     "base_uri": "https://localhost:8080/",
     "height": 367
    },
    "id": "bvzDEw92bdUA",
    "outputId": "0dfe03d7-e10b-41a0-fbb4-c45c85ba80c1"
   },
   "outputs": [
    {
     "data": {
      "image/png": "[encoded data removed]",
      "text/plain": [
       "<Figure size 1800x504 with 1 Axes>"
      ]
     },
     "metadata": {
      "needs_background": "light"
     },
     "output_type": "display_data"
    }
   ],
   "source": [
    "plt.figure(figsize=(25,7))\n",
    "plt.bar(x.index,x[\"Hero Product 2 #ratings\"],color=\"black\")\n",
    "plt.xlabel('seller')\n",
    "plt.ylabel('Hero product 2 #ratings')\n",
    "plt.title('sellers vs hero product 2#ratings')\n",
    "plt.show()"
   ]
  },
  {
   "cell_type": "markdown",
   "metadata": {},
   "source": [
    "#### seller 496 has the highest no of ratings for hero product 2"
   ]
  },
  {
   "cell_type": "code",
   "execution_count": 65,
   "metadata": {
    "colab": {
     "base_uri": "https://localhost:8080/"
    },
    "id": "RE7tjPPse3i2",
    "outputId": "d028c128-1343-4256-836a-4d7fcb471988"
   },
   "outputs": [
    {
     "data": {
      "text/plain": [
       "Index(['sellerproductcount', 'sellerlink', 'no_of_ratings',\n",
       "       'Hero Product 1 #ratings', 'Hero Product 2 #ratings',\n",
       "       'Sample brand name', 'businessaddressnew', 'Email_address',\n",
       "       'phone_number', '%_positive_ratings'],\n",
       "      dtype='object')"
      ]
     },
     "execution_count": 65,
     "metadata": {},
     "output_type": "execute_result"
    }
   ],
   "source": [
    "df1.columns"
   ]
  },
  {
   "cell_type": "markdown",
   "metadata": {
    "id": "MrnVa9yVTD2k"
   },
   "source": [
    "# **Top 10 sellers with highest number of sellerproductcount**"
   ]
  },
  {
   "cell_type": "code",
   "execution_count": 66,
   "metadata": {
    "id": "nSPE3aTvez1K"
   },
   "outputs": [],
   "source": [
    "popularity_table=df1.groupby('sellerlink').agg({'sellerproductcount':'mean'})"
   ]
  },
  {
   "cell_type": "code",
   "execution_count": 67,
   "metadata": {
    "id": "RDj4lRsYe9FA"
   },
   "outputs": [],
   "source": [
    "prod_cnt=popularity_table.sort_values('sellerproductcount',ascending=False).head(10)"
   ]
  },
  {
   "cell_type": "code",
   "execution_count": 68,
   "metadata": {
    "colab": {
     "base_uri": "https://localhost:8080/",
     "height": 394
    },
    "id": "43QAa3lWfDdB",
    "outputId": "77781840-82f5-453f-918b-883bc034d04b"
   },
   "outputs": [
    {
     "data": {
      "text/html": [
       "<div>\n",
       "<style scoped>\n",
       "    .dataframe tbody tr th:only-of-type {\n",
       "        vertical-align: middle;\n",
       "    }\n",
       "\n",
       "    .dataframe tbody tr th {\n",
       "        vertical-align: top;\n",
       "    }\n",
       "\n",
       "    .dataframe thead th {\n",
       "        text-align: right;\n",
       "    }\n",
       "</style>\n",
       "<table border=\"1\" class=\"dataframe\">\n",
       "  <thead>\n",
       "    <tr style=\"text-align: right;\">\n",
       "      <th></th>\n",
       "      <th>sellerproductcount</th>\n",
       "    </tr>\n",
       "    <tr>\n",
       "      <th>sellerlink</th>\n",
       "      <th></th>\n",
       "    </tr>\n",
       "  </thead>\n",
       "  <tbody>\n",
       "    <tr>\n",
       "      <th>Seller 1</th>\n",
       "      <td>100000.0</td>\n",
       "    </tr>\n",
       "    <tr>\n",
       "      <th>Seller 986</th>\n",
       "      <td>100000.0</td>\n",
       "    </tr>\n",
       "    <tr>\n",
       "      <th>Seller 186</th>\n",
       "      <td>100000.0</td>\n",
       "    </tr>\n",
       "    <tr>\n",
       "      <th>Seller 34</th>\n",
       "      <td>100000.0</td>\n",
       "    </tr>\n",
       "    <tr>\n",
       "      <th>Seller 24</th>\n",
       "      <td>100000.0</td>\n",
       "    </tr>\n",
       "    <tr>\n",
       "      <th>Seller 496</th>\n",
       "      <td>100000.0</td>\n",
       "    </tr>\n",
       "    <tr>\n",
       "      <th>Seller 32</th>\n",
       "      <td>80000.0</td>\n",
       "    </tr>\n",
       "    <tr>\n",
       "      <th>Seller 277</th>\n",
       "      <td>70000.0</td>\n",
       "    </tr>\n",
       "    <tr>\n",
       "      <th>Seller 108</th>\n",
       "      <td>60000.0</td>\n",
       "    </tr>\n",
       "    <tr>\n",
       "      <th>Seller 27</th>\n",
       "      <td>60000.0</td>\n",
       "    </tr>\n",
       "  </tbody>\n",
       "</table>\n",
       "</div>"
      ],
      "text/plain": [
       "            sellerproductcount\n",
       "sellerlink                    \n",
       "Seller 1              100000.0\n",
       "Seller 986            100000.0\n",
       "Seller 186            100000.0\n",
       "Seller 34             100000.0\n",
       "Seller 24             100000.0\n",
       "Seller 496            100000.0\n",
       "Seller 32              80000.0\n",
       "Seller 277             70000.0\n",
       "Seller 108             60000.0\n",
       "Seller 27              60000.0"
      ]
     },
     "execution_count": 68,
     "metadata": {},
     "output_type": "execute_result"
    }
   ],
   "source": [
    "prod_cnt"
   ]
  },
  {
   "cell_type": "markdown",
   "metadata": {
    "id": "O5iUq-o6f6g2"
   },
   "source": [
    "**About 1 lakh products are sold by seller 1,986,186,34,24 and 496**"
   ]
  },
  {
   "cell_type": "code",
   "execution_count": 69,
   "metadata": {
    "colab": {
     "base_uri": "https://localhost:8080/",
     "height": 365
    },
    "id": "n9il31KffxyR",
    "outputId": "50612d95-c936-41a5-9cc1-3889d3b6eada"
   },
   "outputs": [
    {
     "data": {
      "image/png": "[encoded data removed]",
      "text/plain": [
       "<Figure size 1800x504 with 1 Axes>"
      ]
     },
     "metadata": {
      "needs_background": "light"
     },
     "output_type": "display_data"
    }
   ],
   "source": [
    "plt.figure(figsize=(25,7))\n",
    "plt.plot(prod_cnt,color=\"red\")\n",
    "plt.xlabel('sellers')\n",
    "plt.ylabel('Product_Count')\n",
    "plt.title('sellers vs Product_Count')\n",
    "plt.show()\n"
   ]
  },
  {
   "cell_type": "code",
   "execution_count": 70,
   "metadata": {
    "colab": {
     "base_uri": "https://localhost:8080/"
    },
    "id": "HpftsOargpeX",
    "outputId": "90d841e9-6508-4718-825d-95de6acfeab9"
   },
   "outputs": [
    {
     "data": {
      "text/plain": [
       "Index(['sellerproductcount', 'sellerlink', 'no_of_ratings',\n",
       "       'Hero Product 1 #ratings', 'Hero Product 2 #ratings',\n",
       "       'Sample brand name', 'businessaddressnew', 'Email_address',\n",
       "       'phone_number', '%_positive_ratings'],\n",
       "      dtype='object')"
      ]
     },
     "execution_count": 70,
     "metadata": {},
     "output_type": "execute_result"
    }
   ],
   "source": [
    "df1.columns"
   ]
  },
  {
   "cell_type": "markdown",
   "metadata": {
    "id": "ZiN0GP2sTMP-"
   },
   "source": [
    "# **Details of the top 10 sellers who have the highest ratings for hero product 1**"
   ]
  },
  {
   "cell_type": "code",
   "execution_count": 71,
   "metadata": {
    "id": "8iVKTFgrgpnp"
   },
   "outputs": [],
   "source": [
    "popularity_table=df1.groupby('sellerlink').agg({\"Hero Product 1 #ratings\":\"mean\",\"businessaddressnew\":\"sum\",\"Email_address\":\"sum\",\"phone_number\":'sum'})"
   ]
  },
  {
   "cell_type": "code",
   "execution_count": 72,
   "metadata": {
    "id": "XcRRpnfbiaJH"
   },
   "outputs": [],
   "source": [
    "det=popularity_table.sort_values('Hero Product 1 #ratings',ascending=False).head(10)"
   ]
  },
  {
   "cell_type": "code",
   "execution_count": 73,
   "metadata": {
    "colab": {
     "base_uri": "https://localhost:8080/",
     "height": 394
    },
    "id": "1SqNf_Ssif56",
    "outputId": "d4a25a05-4642-452c-e0f4-0e3ee0ae288e"
   },
   "outputs": [
    {
     "data": {
      "text/html": [
       "<div>\n",
       "<style scoped>\n",
       "    .dataframe tbody tr th:only-of-type {\n",
       "        vertical-align: middle;\n",
       "    }\n",
       "\n",
       "    .dataframe tbody tr th {\n",
       "        vertical-align: top;\n",
       "    }\n",
       "\n",
       "    .dataframe thead th {\n",
       "        text-align: right;\n",
       "    }\n",
       "</style>\n",
       "<table border=\"1\" class=\"dataframe\">\n",
       "  <thead>\n",
       "    <tr style=\"text-align: right;\">\n",
       "      <th></th>\n",
       "      <th>Hero Product 1 #ratings</th>\n",
       "      <th>businessaddressnew</th>\n",
       "      <th>Email_address</th>\n",
       "      <th>phone_number</th>\n",
       "    </tr>\n",
       "    <tr>\n",
       "      <th>sellerlink</th>\n",
       "      <th></th>\n",
       "      <th></th>\n",
       "      <th></th>\n",
       "      <th></th>\n",
       "    </tr>\n",
       "  </thead>\n",
       "  <tbody>\n",
       "    <tr>\n",
       "      <th>Seller 496</th>\n",
       "      <td>77714</td>\n",
       "      <td>US</td>\n",
       "      <td>[]</td>\n",
       "      <td>[]</td>\n",
       "    </tr>\n",
       "    <tr>\n",
       "      <th>Seller 323</th>\n",
       "      <td>71673</td>\n",
       "      <td>DE</td>\n",
       "      <td>[info@limuno.com]</td>\n",
       "      <td>[4959718003, 4959718003]</td>\n",
       "    </tr>\n",
       "    <tr>\n",
       "      <th>Seller 883</th>\n",
       "      <td>66776</td>\n",
       "      <td>DE</td>\n",
       "      <td>[service@vitamed-quinger.com, atenschutz@vitam...</td>\n",
       "      <td>[4962369329]</td>\n",
       "    </tr>\n",
       "    <tr>\n",
       "      <th>Seller 322</th>\n",
       "      <td>60384</td>\n",
       "      <td>DE</td>\n",
       "      <td>[shop@varia-store.com]</td>\n",
       "      <td>[0371400768, 0371400768]</td>\n",
       "    </tr>\n",
       "    <tr>\n",
       "      <th>Seller 1059</th>\n",
       "      <td>47340</td>\n",
       "      <td>DE</td>\n",
       "      <td>[amazon@wtnord.de]</td>\n",
       "      <td>[0494220367, 0494220367]</td>\n",
       "    </tr>\n",
       "    <tr>\n",
       "      <th>Seller 101</th>\n",
       "      <td>47337</td>\n",
       "      <td>DE</td>\n",
       "      <td>[info@kessler-electronic.de]</td>\n",
       "      <td>[2273991932, 2273991932]</td>\n",
       "    </tr>\n",
       "    <tr>\n",
       "      <th>Seller 38</th>\n",
       "      <td>40684</td>\n",
       "      <td>DE</td>\n",
       "      <td>[nils.holm@zierleyn.de]</td>\n",
       "      <td>[4959218340, 4959218340]</td>\n",
       "    </tr>\n",
       "    <tr>\n",
       "      <th>Seller 54</th>\n",
       "      <td>40684</td>\n",
       "      <td>DE</td>\n",
       "      <td>[info@kaleidoshop.de]</td>\n",
       "      <td>[0295198497, 0295198497]</td>\n",
       "    </tr>\n",
       "    <tr>\n",
       "      <th>Seller 986</th>\n",
       "      <td>40684</td>\n",
       "      <td>DE</td>\n",
       "      <td>[info@schreibwaren-wegmann.de]</td>\n",
       "      <td>[0992260949, 0992260949]</td>\n",
       "    </tr>\n",
       "    <tr>\n",
       "      <th>Seller 37</th>\n",
       "      <td>40683</td>\n",
       "      <td>DE</td>\n",
       "      <td>[info@itenga.de]</td>\n",
       "      <td>[0682589697, 0682589697]</td>\n",
       "    </tr>\n",
       "  </tbody>\n",
       "</table>\n",
       "</div>"
      ],
      "text/plain": [
       "             Hero Product 1 #ratings  ...              phone_number\n",
       "sellerlink                            ...                          \n",
       "Seller 496                     77714  ...                        []\n",
       "Seller 323                     71673  ...  [4959718003, 4959718003]\n",
       "Seller 883                     66776  ...              [4962369329]\n",
       "Seller 322                     60384  ...  [0371400768, 0371400768]\n",
       "Seller 1059                    47340  ...  [0494220367, 0494220367]\n",
       "Seller 101                     47337  ...  [2273991932, 2273991932]\n",
       "Seller 38                      40684  ...  [4959218340, 4959218340]\n",
       "Seller 54                      40684  ...  [0295198497, 0295198497]\n",
       "Seller 986                     40684  ...  [0992260949, 0992260949]\n",
       "Seller 37                      40683  ...  [0682589697, 0682589697]\n",
       "\n",
       "[10 rows x 4 columns]"
      ]
     },
     "execution_count": 73,
     "metadata": {},
     "output_type": "execute_result"
    }
   ],
   "source": [
    "det"
   ]
  },
  {
   "cell_type": "markdown",
   "metadata": {
    "id": "b066_UpaTVrD"
   },
   "source": [
    "# **Details of the top 10 sellers who have the highest ratings for hero product 2**"
   ]
  },
  {
   "cell_type": "code",
   "execution_count": 74,
   "metadata": {
    "id": "ZI7cmyouTY8A"
   },
   "outputs": [],
   "source": [
    "popularity_table=df1.groupby('sellerlink').agg({\"Hero Product 2 #ratings\":\"mean\",\"businessaddressnew\":\"sum\",\"Email_address\":\"sum\",\"phone_number\":'sum'})"
   ]
  },
  {
   "cell_type": "code",
   "execution_count": 75,
   "metadata": {
    "id": "oSN3PMIiTcu5"
   },
   "outputs": [],
   "source": [
    "det=popularity_table.sort_values('Hero Product 2 #ratings',ascending=False).head(10)"
   ]
  },
  {
   "cell_type": "code",
   "execution_count": 76,
   "metadata": {
    "colab": {
     "base_uri": "https://localhost:8080/",
     "height": 394
    },
    "id": "MKPacpXdTfoX",
    "outputId": "5088e7a5-76d4-46d3-dcd1-978533e54e2d"
   },
   "outputs": [
    {
     "data": {
      "text/html": [
       "<div>\n",
       "<style scoped>\n",
       "    .dataframe tbody tr th:only-of-type {\n",
       "        vertical-align: middle;\n",
       "    }\n",
       "\n",
       "    .dataframe tbody tr th {\n",
       "        vertical-align: top;\n",
       "    }\n",
       "\n",
       "    .dataframe thead th {\n",
       "        text-align: right;\n",
       "    }\n",
       "</style>\n",
       "<table border=\"1\" class=\"dataframe\">\n",
       "  <thead>\n",
       "    <tr style=\"text-align: right;\">\n",
       "      <th></th>\n",
       "      <th>Hero Product 2 #ratings</th>\n",
       "      <th>businessaddressnew</th>\n",
       "      <th>Email_address</th>\n",
       "      <th>phone_number</th>\n",
       "    </tr>\n",
       "    <tr>\n",
       "      <th>sellerlink</th>\n",
       "      <th></th>\n",
       "      <th></th>\n",
       "      <th></th>\n",
       "      <th></th>\n",
       "    </tr>\n",
       "  </thead>\n",
       "  <tbody>\n",
       "    <tr>\n",
       "      <th>Seller 496</th>\n",
       "      <td>70732</td>\n",
       "      <td>US</td>\n",
       "      <td>[]</td>\n",
       "      <td>[]</td>\n",
       "    </tr>\n",
       "    <tr>\n",
       "      <th>Seller 323</th>\n",
       "      <td>58332</td>\n",
       "      <td>DE</td>\n",
       "      <td>[info@limuno.com]</td>\n",
       "      <td>[4959718003, 4959718003]</td>\n",
       "    </tr>\n",
       "    <tr>\n",
       "      <th>Seller 322</th>\n",
       "      <td>57769</td>\n",
       "      <td>DE</td>\n",
       "      <td>[shop@varia-store.com]</td>\n",
       "      <td>[0371400768, 0371400768]</td>\n",
       "    </tr>\n",
       "    <tr>\n",
       "      <th>Seller 883</th>\n",
       "      <td>32420</td>\n",
       "      <td>DE</td>\n",
       "      <td>[service@vitamed-quinger.com, atenschutz@vitam...</td>\n",
       "      <td>[4962369329]</td>\n",
       "    </tr>\n",
       "    <tr>\n",
       "      <th>Seller 101</th>\n",
       "      <td>32420</td>\n",
       "      <td>DE</td>\n",
       "      <td>[info@kessler-electronic.de]</td>\n",
       "      <td>[2273991932, 2273991932]</td>\n",
       "    </tr>\n",
       "    <tr>\n",
       "      <th>Seller 838</th>\n",
       "      <td>30140</td>\n",
       "      <td>DE</td>\n",
       "      <td>[77bier@web.de]</td>\n",
       "      <td>[0163500214]</td>\n",
       "    </tr>\n",
       "    <tr>\n",
       "      <th>Seller 37</th>\n",
       "      <td>18910</td>\n",
       "      <td>DE</td>\n",
       "      <td>[info@itenga.de]</td>\n",
       "      <td>[0682589697, 0682589697]</td>\n",
       "    </tr>\n",
       "    <tr>\n",
       "      <th>Seller 1059</th>\n",
       "      <td>18561</td>\n",
       "      <td>DE</td>\n",
       "      <td>[amazon@wtnord.de]</td>\n",
       "      <td>[0494220367, 0494220367]</td>\n",
       "    </tr>\n",
       "    <tr>\n",
       "      <th>Seller 657</th>\n",
       "      <td>16960</td>\n",
       "      <td>DE</td>\n",
       "      <td>[amazon@tmf-racing.com]</td>\n",
       "      <td>[0677296690, 0677296690]</td>\n",
       "    </tr>\n",
       "    <tr>\n",
       "      <th>Seller 27</th>\n",
       "      <td>13566</td>\n",
       "      <td>US</td>\n",
       "      <td>[]</td>\n",
       "      <td>[]</td>\n",
       "    </tr>\n",
       "  </tbody>\n",
       "</table>\n",
       "</div>"
      ],
      "text/plain": [
       "             Hero Product 2 #ratings  ...              phone_number\n",
       "sellerlink                            ...                          \n",
       "Seller 496                     70732  ...                        []\n",
       "Seller 323                     58332  ...  [4959718003, 4959718003]\n",
       "Seller 322                     57769  ...  [0371400768, 0371400768]\n",
       "Seller 883                     32420  ...              [4962369329]\n",
       "Seller 101                     32420  ...  [2273991932, 2273991932]\n",
       "Seller 838                     30140  ...              [0163500214]\n",
       "Seller 37                      18910  ...  [0682589697, 0682589697]\n",
       "Seller 1059                    18561  ...  [0494220367, 0494220367]\n",
       "Seller 657                     16960  ...  [0677296690, 0677296690]\n",
       "Seller 27                      13566  ...                        []\n",
       "\n",
       "[10 rows x 4 columns]"
      ]
     },
     "execution_count": 76,
     "metadata": {},
     "output_type": "execute_result"
    }
   ],
   "source": [
    "det"
   ]
  },
  {
   "cell_type": "markdown",
   "metadata": {
    "id": "jDpZQ2abBLxe"
   },
   "source": [
    "**INSIGHTS**<br>\n",
    "1.Most of the sellers belonged to US and about 30 sellers belonged to germany<br>\n",
    "2.The average sellerproductcount is 6636<br>\n",
    "3.The average ratings given for hero product 1 is 4191 and the average ratings for hero product 2 is 2359 <br>\n",
    "4.The seller 487 got the highest number of ratings for his products with 95% of positive ratings<br>\n",
    "5.The seller 496 has the highest number of ratings for hero product 1 where 92% of the ratings are positive out of 288 ratings<br>\n",
    "6.seller 475 has the highest positive ratings of 96%<br>\n",
    "7.Again seller 496 has the highest number of ratings for hero product 2 where 91% of the ratings are positive<br>\n",
    "8.The maximum number of products sold is 1lakh and is sold by sellers 1,986,186,34,24 and 496\n",
    "\n",
    "\n",
    "hence the company should target the above sellers to maximize the gains"
   ]
  }
 ],
 "metadata": {
  "colab": {
   "collapsed_sections": [],
   "name": "amazon_data_analysis_monisha_ks",
   "provenance": []
  },
  "kernelspec": {
   "display_name": "Python 3 (ipykernel)",
   "language": "python",
   "name": "python3"
  },
  "language_info": {
   "codemirror_mode": {
    "name": "ipython",
    "version": 3
   },
   "file_extension": ".py",
   "mimetype": "text/x-python",
   "name": "python",
   "nbconvert_exporter": "python",
   "pygments_lexer": "ipython3",
   "version": "3.9.7"
  }
 },
 "nbformat": 4,
 "nbformat_minor": 1
}
